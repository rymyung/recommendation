{
 "cells": [
  {
   "cell_type": "markdown",
   "id": "interesting-wilderness",
   "metadata": {},
   "source": [
    "# 컨텐츠 기반 추천 시스템"
   ]
  },
  {
   "cell_type": "markdown",
   "id": "macro-thriller",
   "metadata": {},
   "source": [
    "* 컨텐츠가 비슷한 아이템을 추천\n",
    "* 사용자가 과거에 경험했던 아이템 중 비슷한 아이템을 현재 시점에 추천\n",
    "* Information Retrieval과 Machine Learning의 중간 지점\n",
    "    * 정보(아이템)을 찾는 과정과 과거 정보를 활용해서 유저의 성향을 배우는 문제"
   ]
  },
  {
   "cell_type": "markdown",
   "id": "deluxe-things",
   "metadata": {},
   "source": [
    "## 컨텐츠 기반 추천 시스템이란?"
   ]
  },
  {
   "cell_type": "markdown",
   "id": "constitutional-implementation",
   "metadata": {},
   "source": [
    "### Main Idea\n",
    "* 유저 A가 높은 평점을 주거나 큰 관심을 갖은 아이템 x와 유사한 아이템 y를 추천\n",
    "    * 웹사이트, 블로그, 뉴스 : 비슷한 컨텐츠의 게시글(item)을 찾아서 추천\n",
    "    * 영화 : 같은 배우, 같은 장르, 같은 영화 감독 등 비슷한 특징을 같는 영화(item)을 찾아서 추천"
   ]
  },
  {
   "cell_type": "markdown",
   "id": "commercial-humanity",
   "metadata": {},
   "source": [
    "### 장점\n",
    "1. 다른 유저의 데이터가 필요하지 않음\n",
    "2. 추천할 수 있는 아이템의 범위가 넓음\n",
    "    * Unique, New, Unpopular 아이템 모두 가능\n",
    "3. 추천하는 이유를 제시할 수 있음\n",
    "    * 아이템의 features로 컨텐츠 분석 가능\n",
    "    * 특정 feature가 추천의 이유가 됐다고 설명 가능"
   ]
  },
  {
   "cell_type": "markdown",
   "id": "metallic-score",
   "metadata": {},
   "source": [
    "### 단점\n",
    "1. 적절한 features를 찾기가 어려움\n",
    "2. 새로운 유저를 위한 추천이 어려움\n",
    "    * User Profile이 존재하지 않거나 데이터가 매우 부족\n",
    "3. 선호하는 특성을 가진 항목을 반복 추천\n",
    "    * Overspecialization\n",
    "    * 유저의 다양한 취향 반영 어려움\n",
    "    * 유저 프로필 외 추천 불가"
   ]
  },
  {
   "cell_type": "markdown",
   "id": "forward-accordance",
   "metadata": {},
   "source": [
    "### 컨텐츠 기반 추천시스템 Architecture\n",
    "1. 정보(유저, 아이템) 제공\n",
    "2. 컨텐츠 분석(Contents Analyzer)\n",
    "    * 텍스트와 같은 비정형 데이터로 부터 관련 있는 정보를 얻는 작업\n",
    "    * feature extraction, vector representation\n",
    "3. 유저 프로필 파악(Profile Learner)\n",
    "    * 유저가 선호하는 아이템, 취향 파악\n",
    "    * 머신러닝 등 알고리즘을 통해 유저 데이터 일반화\n",
    "4. 유사 아이템 선택(Filtering Component)\n",
    "    * 아이템 중 가장 적절하게 match 하는 아이템 선택\n",
    "    * 고나련있는 아이템으로 최종 추천 리스트 만들기\n",
    "5. 추천 리스트 생성"
   ]
  },
  {
   "cell_type": "markdown",
   "id": "material-beach",
   "metadata": {},
   "source": [
    "### Example\n",
    "* 음악 사이트(Pandora) 예시\n",
    "    * 신곡이 출시되면, 음악을 분석하여 장르, 비트, 음색 등 400여 항목 체크 -> features extraction\n",
    "    * 유저로부터 'like'를 받은 음악의 특색과 해당 유저의 프로파일 준비 -> profile learner\n",
    "    * 음악의 특징과 사용자 프로필을 바탕으로 선호하는 음악 추천 -> filtering component"
   ]
  },
  {
   "cell_type": "markdown",
   "id": "detailed-strike",
   "metadata": {},
   "source": [
    "### 컨텐츠 기반 추천시스템에서 가장 중요한 것\n",
    "* 컨텐츠의 내용을 분석하는 아이템 분석 알고리즘\n",
    "    * Clustering, Machine Learning, TF-iDF 등 활용\n",
    "* 추천시스템의 성능을 높일 수 있는 적절한 컨텐츠를 사용하는 것!\n",
    "    * 영화 추천을 위해 영화 정보를 활용하고, 뉴스 추천을 위해 뉴스 내용을 활용하는 것"
   ]
  },
  {
   "cell_type": "markdown",
   "id": "unusual-beauty",
   "metadata": {},
   "source": [
    "## 어떤 컨텐츠를 활용할까?"
   ]
  },
  {
   "cell_type": "markdown",
   "id": "saved-richardson",
   "metadata": {},
   "source": [
    "* 컨텐츠 분석\n",
    "* 유저 프로필 파악"
   ]
  },
  {
   "cell_type": "markdown",
   "id": "suffering-parking",
   "metadata": {},
   "source": [
    "### Item Representation\n",
    "* Item의 여러 특성을 attributes, features라고 함\n",
    "* Item Profile은 분석된 여러 특성들을 나타내며, 이를 정량화해서 사용\n",
    "    * Feature Extraction\n",
    "        * One-hot vector\n",
    "        * Pandas dataframe - dummy vector\n",
    "        * etc...\n",
    "    * 구성된 목록 등을 바탕으로 가중치 부여를 할 수 있음\n",
    "* Item 간의 유사도는 주로 Cosine Similarity를 활용"
   ]
  },
  {
   "cell_type": "markdown",
   "id": "bridal-tuning",
   "metadata": {},
   "source": [
    "### User Profile\n",
    "* 데이터로부터 유저 성향 파악\n",
    "    * User ratings, Implicit feedback 등\n",
    "* 사용자가 가지는 아이템들의 특성 또는 조사된 사용자 특성으로 구성\n",
    "* 특성 가중치는 사용자가 가지고 있는 아이템 특성 가중치의 평균 값을 주로 활용\n",
    "* 사용자의 기호를 따로 파악하거나, 설문조사 또는 자발적인 키워드 입력 등으로 얻은 프로픽\n",
    "    * Explicit and Implicit feedback to get user profile\n",
    "* Like/Dislike, Ratings from 0 to 5, 직접 작성한 유저의 주관적인 생각을 담은 댓글 등\n",
    "* 검색 로그, 아이템 선택 후 구매 또는 선택, 특정 아이템을 위해 비슷한 아이템을 tag한 이력 등\n",
    "* User Profile 학습은 분류 문제를 푸는 것과 같음\n",
    "    * 주어진 user profile 정보를 바탕으로 새로운 아이템 $I_{new}$을 유저가 평가한 metric 중 하나를 선택\n",
    "    * 아이템에 대한 유저의 기존 평가 = {$r_1, r_2, \\cdots, r_s$}"
   ]
  },
  {
   "cell_type": "code",
   "execution_count": 1,
   "id": "minus-ethiopia",
   "metadata": {},
   "outputs": [],
   "source": [
    "import os\n",
    "import pandas as pd\n",
    "import matplotlib.pyplot as plt\n",
    "import seaborn as sns"
   ]
  },
  {
   "cell_type": "code",
   "execution_count": 2,
   "id": "secure-lotus",
   "metadata": {},
   "outputs": [
    {
     "data": {
      "text/plain": [
       "['links.csv', 'tags.csv', 'ratings.csv', 'README.txt', 'movies.csv']"
      ]
     },
     "execution_count": 2,
     "metadata": {},
     "output_type": "execute_result"
    }
   ],
   "source": [
    "os.listdir(\"/Users/yeomyungro/Documents/github/recommendation/data/ml-latest-small/\")"
   ]
  },
  {
   "cell_type": "code",
   "execution_count": 3,
   "id": "piano-spouse",
   "metadata": {},
   "outputs": [],
   "source": [
    "path = '/Users/yeomyungro/Documents/github/recommendation/'"
   ]
  },
  {
   "cell_type": "code",
   "execution_count": 6,
   "id": "pleasant-deviation",
   "metadata": {},
   "outputs": [],
   "source": [
    "rating = pd.read_csv(path+'data/ml-latest-small/ratings.csv', encoding='utf-8')\n",
    "tag = pd.read_csv(path+'data/ml-latest-small/tags.csv', encoding='utf-8')\n",
    "movie = pd.read_csv(path+'data/ml-latest-small/movies.csv', encoding='utf-8')"
   ]
  },
  {
   "cell_type": "code",
   "execution_count": null,
   "id": "under-bones",
   "metadata": {},
   "outputs": [],
   "source": []
  }
 ],
 "metadata": {
  "kernelspec": {
   "display_name": "Python 3",
   "language": "python",
   "name": "python3"
  },
  "language_info": {
   "codemirror_mode": {
    "name": "ipython",
    "version": 3
   },
   "file_extension": ".py",
   "mimetype": "text/x-python",
   "name": "python",
   "nbconvert_exporter": "python",
   "pygments_lexer": "ipython3",
   "version": "3.8.8"
  }
 },
 "nbformat": 4,
 "nbformat_minor": 5
}
