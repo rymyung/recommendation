{
 "cells": [
  {
   "cell_type": "markdown",
   "id": "configured-thesaurus",
   "metadata": {},
   "source": [
    "# Collaborative Filtering(협업 필터링)"
   ]
  },
  {
   "cell_type": "markdown",
   "id": "velvet-favor",
   "metadata": {},
   "source": [
    "* 많은 유저들로부터 얻은 기호 정보를 이용해 유저의 관심사를 자동으로 예측하게 하는 방법\n",
    "    * 이 상품을 구매한 유저가 구매한 다른 상품들\n",
    "    * 이 영화를 선호하는 유저가 관람한 다른 영화들\n",
    "* 유저 A와 비슷한 성향을 갖는 유저들이 선호하는 아이템을 추천\n",
    "* 아이템이 가진 속성을 사용하지 않으면서도 높은 성능을 보임"
   ]
  },
  {
   "cell_type": "markdown",
   "id": "clear-prefix",
   "metadata": {},
   "source": [
    "## CF의 종류"
   ]
  },
  {
   "cell_type": "markdown",
   "id": "grave-decline",
   "metadata": {},
   "source": [
    "### Neighborhood-based CF\n",
    "* User-based\n",
    "* Item-based"
   ]
  },
  {
   "cell_type": "markdown",
   "id": "narrative-equality",
   "metadata": {},
   "source": [
    "### Model-based CF\n",
    "* Non-parametric(KNN, SVD)\n",
    "* Matrix Factorization\n",
    "* Deep Learning"
   ]
  },
  {
   "cell_type": "markdown",
   "id": "variable-orientation",
   "metadata": {},
   "source": [
    "### Hybrid CF\n",
    "* Contents-based와 결합"
   ]
  },
  {
   "cell_type": "markdown",
   "id": "editorial-dryer",
   "metadata": {},
   "source": [
    "## CF 로직\n",
    "* 유저 u의 아이템 i에 대한 평점/구매여부 등을 예측하는 것\n",
    "    * 주어진 데이터를 활용해 유저-아이템 행렬을 생성\n",
    "    * 유사도 기준을 정하고 유저 또는 아이템 간의 유사도 계산\n",
    "    * 주어진 평점/구매여부와 유사도를 활용하여 행렬의 비어있는 값(평점/구매여부)을 예측"
   ]
  },
  {
   "cell_type": "markdown",
   "id": "aware-somalia",
   "metadata": {},
   "source": [
    "## CF 특징\n",
    "* 구현이 간단하고 이해가 쉬움\n",
    "* 아이템이나 유저가 계속 늘어날 경우 확장성이 떨어짐(Scalability)\n",
    "* Sparse한 데이터의 경우 성능이 저하됨(Sparsity)\n",
    "* Model-based CF에 비해 계산량이 적음\n",
    "* 새로운 유저, 아이템이 추가되더라도 비교적 안정적\n",
    "* 새로운 content(유저 또는 아이템)을 추천할 수 있음"
   ]
  },
  {
   "cell_type": "markdown",
   "id": "elect-switzerland",
   "metadata": {},
   "source": [
    "### Sparsity\n",
    "* 주어진 데이터를 활용해 유저-아이템 행렬을 만들면 대부분의 값은 비어있음(sparse matrix)\n",
    "* CF를 적용하려면 적어도 sparsity가 99.5%를 넘지 않도록 하는 것이 좋음"
   ]
  },
  {
   "cell_type": "markdown",
   "id": "becoming-lunch",
   "metadata": {},
   "source": [
    "## Neighborhood-based CF(Memory-based)"
   ]
  },
  {
   "cell_type": "markdown",
   "id": "facial-housing",
   "metadata": {},
   "source": [
    "### User-based\n",
    "* 두 유저가 얼마나 유사한 아이템을 선호하는가?\n",
    "* 유저 간의 유사도를 구한 뒤, 나와 유사도가 높은 유저들이 선호하는 아이템을 추천"
   ]
  },
  {
   "cell_type": "markdown",
   "id": "coupled-mounting",
   "metadata": {},
   "source": [
    "* 구현이 쉽고 유사한 Neighborhood의 수 K가 늘어날 수록 성능이 높아짐\n",
    "* Item-based보다 더 다양한 추천 결과들이 제공됨(Diversity)\n",
    "* Sparsity, Cold Start에 좀 더 취약함\n",
    "* Pearson 유사도를 사용할 때 성능이 높음"
   ]
  },
  {
   "cell_type": "markdown",
   "id": "silver-license",
   "metadata": {},
   "source": [
    "* rating을 구하는 방법\n",
    "    1. Average : 유저들의 rating의 평균(유사도 고려 X)\n",
    "    2. Weighted Average : 유저 간의 유사도 값을 Weight로 사용하여 rating의 평균"
   ]
  },
  {
   "cell_type": "markdown",
   "id": "running-introduction",
   "metadata": {},
   "source": [
    "* Absolute rating의 문제점\n",
    "    * 내가 평점을 내리는 기준은 다른 유저와 다름\n",
    "    * 어떤 유저는 전체적으로 높게 평점을 줄 수도 있고 반대로 낮게 줄 수도 있음"
   ]
  },
  {
   "cell_type": "markdown",
   "id": "convinced-charity",
   "metadata": {},
   "source": [
    "* Deviation을 사용\n",
    "    * 유저가 아이템에 내린 절대 평점을 사용하지 않음\n",
    "    * 대신 유저의 평균 평점에서 얼마나 높은지 혹은 낮은지 그 편차를 사용\n",
    "        * 어떤 유저의 평균이 2.5점인데 5점을 줬다면 아주 높게 평가한 것\n",
    "        * 모든 아이템의 평점을 5점으로 준 유저는 아이템끼리의 비교가 어려움\n",
    "    * predicted rating = 유저 평균 rating + predicted deviation\n",
    "        * $dev(u,i) = r(u,i) - \\bar{r_{u'}}\\text(\\text{ }for\\text{ } known\\text{ } rating)$"
   ]
  },
  {
   "cell_type": "markdown",
   "id": "athletic-affiliate",
   "metadata": {},
   "source": [
    "* Weighted Average with deviation\n",
    "    * $$\\hat{r}(u,i) = \\bar{r_u} + \\frac{\\sum_{u'\\in\\omega_i}sim(u,u')(r(u',i)-\\bar{r_{u'})}}{\\sum_{u'\\in\\omega_i}sim(u,u')}$$"
   ]
  },
  {
   "cell_type": "markdown",
   "id": "consolidated-difficulty",
   "metadata": {},
   "source": [
    "* K-Nearest Neighbor CF\n",
    "    * 모든 유저를 사용할 경우 연산은 많아지고 오히려 성능은 떨어지기도 함\n",
    "    * $\\omega_i$에 속한 유저 가운데 유저 u와 가장 유사한 K명의 유저를 이용해 평점을 예측(KNN)\n",
    "        * 보통 K=25~50을 많이 사용하지만 직접 튜닝해야 하는 하이퍼 파라미터"
   ]
  },
  {
   "cell_type": "markdown",
   "id": "hundred-ground",
   "metadata": {},
   "source": [
    "### Item-based\n",
    "* 두 아이템이 유저로부터 얼마나 유사한 평가를 받았는가?\n",
    "* 아이템 선호도를 바탕으로 연관성이 높은 다른 아이템을 추천, 아이템 간의 유사도를 구함"
   ]
  },
  {
   "cell_type": "markdown",
   "id": "mediterranean-period",
   "metadata": {},
   "source": [
    "* 보통 실제 서비스에서 User-based CF 보다 높은 성능을 냄\n",
    "* 아이템 간의 유사도를 사용하는 것이 더 Robust함\n",
    "    * 아이템 기준의 Neighborhood들이 사용자 기준의 Neighborhood보다 훨씬 덜 변함\n",
    "* 추천에 대한 이유를 설명하기 훨씬 쉬움\n",
    "* 유저가 과거에 선호했던 다른아이템과 비슷하기 때문에 추천\n",
    "* Cosine 유사도를 사용할 때 성능이 높음"
   ]
  },
  {
   "cell_type": "markdown",
   "id": "concrete-system",
   "metadata": {},
   "source": [
    "## CF의 한계"
   ]
  },
  {
   "cell_type": "markdown",
   "id": "different-wagner",
   "metadata": {},
   "source": [
    "* Cold Start 문제\n",
    "    * 데이터가 충분하지 않다면 추천 성능이 떨어짐\n",
    "    * 데이터가 전혀 없는 신규 유저, 아이템의 경우 추천이 불가능\n",
    "* 계산 효율\n",
    "    * 유저와 아이템이 늘어날수록 유사도 계산이 늘어남\n",
    "    * 유저, 아이템이 많아야 정확한 예측을 하지만 반대로 시간이 오래걸림\n",
    "* Long-tail 추천의 한계\n",
    "    * 많은 유저들이 선호하는 소수의 아이템이 보통 CF 추천 결과로 나타남\n",
    "    * 롱테일을 이루는 비주류의 아이템이 추천되기 어려움"
   ]
  },
  {
   "cell_type": "markdown",
   "id": "massive-wesley",
   "metadata": {},
   "source": [
    "## Tutorial"
   ]
  },
  {
   "cell_type": "code",
   "execution_count": 20,
   "id": "western-playback",
   "metadata": {},
   "outputs": [],
   "source": [
    "import os\n",
    "import pandas as pd\n",
    "import numpy as np\n",
    "import matplotlib.pyplot as plt\n",
    "import seaborn as sns\n",
    "from tqdm.auto import tqdm\n",
    "from sklearn.model_selection import train_test_split"
   ]
  },
  {
   "cell_type": "code",
   "execution_count": 2,
   "id": "spatial-eligibility",
   "metadata": {},
   "outputs": [],
   "source": [
    "path = '/Users/yeomyungro/Documents/github/recommendation/'"
   ]
  },
  {
   "cell_type": "code",
   "execution_count": 3,
   "id": "leading-serial",
   "metadata": {},
   "outputs": [],
   "source": [
    "rating = pd.read_csv(path+'data/ml-latest-small/ratings.csv', encoding='utf-8')\n",
    "tag = pd.read_csv(path+'data/ml-latest-small/tags.csv', encoding='utf-8')\n",
    "movie = pd.read_csv(path+'data/ml-latest-small/movies.csv', encoding='utf-8')"
   ]
  },
  {
   "cell_type": "code",
   "execution_count": 4,
   "id": "surface-brush",
   "metadata": {},
   "outputs": [
    {
     "data": {
      "text/html": [
       "<div>\n",
       "<style scoped>\n",
       "    .dataframe tbody tr th:only-of-type {\n",
       "        vertical-align: middle;\n",
       "    }\n",
       "\n",
       "    .dataframe tbody tr th {\n",
       "        vertical-align: top;\n",
       "    }\n",
       "\n",
       "    .dataframe thead th {\n",
       "        text-align: right;\n",
       "    }\n",
       "</style>\n",
       "<table border=\"1\" class=\"dataframe\">\n",
       "  <thead>\n",
       "    <tr style=\"text-align: right;\">\n",
       "      <th></th>\n",
       "      <th>userId</th>\n",
       "      <th>movieId</th>\n",
       "      <th>rating</th>\n",
       "      <th>timestamp</th>\n",
       "    </tr>\n",
       "  </thead>\n",
       "  <tbody>\n",
       "    <tr>\n",
       "      <th>0</th>\n",
       "      <td>1</td>\n",
       "      <td>1</td>\n",
       "      <td>4.0</td>\n",
       "      <td>964982703</td>\n",
       "    </tr>\n",
       "    <tr>\n",
       "      <th>1</th>\n",
       "      <td>1</td>\n",
       "      <td>3</td>\n",
       "      <td>4.0</td>\n",
       "      <td>964981247</td>\n",
       "    </tr>\n",
       "    <tr>\n",
       "      <th>2</th>\n",
       "      <td>1</td>\n",
       "      <td>6</td>\n",
       "      <td>4.0</td>\n",
       "      <td>964982224</td>\n",
       "    </tr>\n",
       "    <tr>\n",
       "      <th>3</th>\n",
       "      <td>1</td>\n",
       "      <td>47</td>\n",
       "      <td>5.0</td>\n",
       "      <td>964983815</td>\n",
       "    </tr>\n",
       "    <tr>\n",
       "      <th>4</th>\n",
       "      <td>1</td>\n",
       "      <td>50</td>\n",
       "      <td>5.0</td>\n",
       "      <td>964982931</td>\n",
       "    </tr>\n",
       "  </tbody>\n",
       "</table>\n",
       "</div>"
      ],
      "text/plain": [
       "   userId  movieId  rating  timestamp\n",
       "0       1        1     4.0  964982703\n",
       "1       1        3     4.0  964981247\n",
       "2       1        6     4.0  964982224\n",
       "3       1       47     5.0  964983815\n",
       "4       1       50     5.0  964982931"
      ]
     },
     "execution_count": 4,
     "metadata": {},
     "output_type": "execute_result"
    }
   ],
   "source": [
    "rating.head()"
   ]
  },
  {
   "cell_type": "code",
   "execution_count": 5,
   "id": "apparent-camera",
   "metadata": {},
   "outputs": [],
   "source": [
    "user_list = list(rating['userId'].unique())\n",
    "movie_list = list(rating['movieId'].unique())"
   ]
  },
  {
   "cell_type": "code",
   "execution_count": 6,
   "id": "special-toolbox",
   "metadata": {},
   "outputs": [
    {
     "name": "stdout",
     "output_type": "stream",
     "text": [
      "# of users :  610\n",
      "# of movies :  9724\n"
     ]
    }
   ],
   "source": [
    "print('# of users : ', len(user_list))\n",
    "print('# of movies : ', len(movie_list))"
   ]
  },
  {
   "cell_type": "code",
   "execution_count": 7,
   "id": "variable-farmer",
   "metadata": {},
   "outputs": [
    {
     "name": "stdout",
     "output_type": "stream",
     "text": [
      "(80668, 4)\n",
      "(20168, 4)\n"
     ]
    }
   ],
   "source": [
    "train_df, test_df = train_test_split(rating, test_size=0.2, random_state=1990)\n",
    "print(train_df.shape)\n",
    "print(test_df.shape)"
   ]
  },
  {
   "cell_type": "code",
   "execution_count": 8,
   "id": "raising-snapshot",
   "metadata": {},
   "outputs": [
    {
     "data": {
      "text/html": [
       "<div>\n",
       "<style scoped>\n",
       "    .dataframe tbody tr th:only-of-type {\n",
       "        vertical-align: middle;\n",
       "    }\n",
       "\n",
       "    .dataframe tbody tr th {\n",
       "        vertical-align: top;\n",
       "    }\n",
       "\n",
       "    .dataframe thead th {\n",
       "        text-align: right;\n",
       "    }\n",
       "</style>\n",
       "<table border=\"1\" class=\"dataframe\">\n",
       "  <thead>\n",
       "    <tr style=\"text-align: right;\">\n",
       "      <th>movieId</th>\n",
       "      <th>1</th>\n",
       "      <th>2</th>\n",
       "      <th>3</th>\n",
       "      <th>4</th>\n",
       "      <th>5</th>\n",
       "      <th>6</th>\n",
       "      <th>7</th>\n",
       "      <th>8</th>\n",
       "      <th>9</th>\n",
       "      <th>10</th>\n",
       "      <th>...</th>\n",
       "      <th>190219</th>\n",
       "      <th>190221</th>\n",
       "      <th>193565</th>\n",
       "      <th>193567</th>\n",
       "      <th>193573</th>\n",
       "      <th>193579</th>\n",
       "      <th>193583</th>\n",
       "      <th>193585</th>\n",
       "      <th>193587</th>\n",
       "      <th>193609</th>\n",
       "    </tr>\n",
       "    <tr>\n",
       "      <th>userId</th>\n",
       "      <th></th>\n",
       "      <th></th>\n",
       "      <th></th>\n",
       "      <th></th>\n",
       "      <th></th>\n",
       "      <th></th>\n",
       "      <th></th>\n",
       "      <th></th>\n",
       "      <th></th>\n",
       "      <th></th>\n",
       "      <th></th>\n",
       "      <th></th>\n",
       "      <th></th>\n",
       "      <th></th>\n",
       "      <th></th>\n",
       "      <th></th>\n",
       "      <th></th>\n",
       "      <th></th>\n",
       "      <th></th>\n",
       "      <th></th>\n",
       "      <th></th>\n",
       "    </tr>\n",
       "  </thead>\n",
       "  <tbody>\n",
       "    <tr>\n",
       "      <th>1</th>\n",
       "      <td>4.0</td>\n",
       "      <td>0.0</td>\n",
       "      <td>4.0</td>\n",
       "      <td>0.0</td>\n",
       "      <td>0.0</td>\n",
       "      <td>4.0</td>\n",
       "      <td>0.0</td>\n",
       "      <td>0.0</td>\n",
       "      <td>0.0</td>\n",
       "      <td>0.0</td>\n",
       "      <td>...</td>\n",
       "      <td>0.0</td>\n",
       "      <td>0.0</td>\n",
       "      <td>0.0</td>\n",
       "      <td>0.0</td>\n",
       "      <td>0.0</td>\n",
       "      <td>0.0</td>\n",
       "      <td>0.0</td>\n",
       "      <td>0.0</td>\n",
       "      <td>0.0</td>\n",
       "      <td>0.0</td>\n",
       "    </tr>\n",
       "    <tr>\n",
       "      <th>2</th>\n",
       "      <td>0.0</td>\n",
       "      <td>0.0</td>\n",
       "      <td>0.0</td>\n",
       "      <td>0.0</td>\n",
       "      <td>0.0</td>\n",
       "      <td>0.0</td>\n",
       "      <td>0.0</td>\n",
       "      <td>0.0</td>\n",
       "      <td>0.0</td>\n",
       "      <td>0.0</td>\n",
       "      <td>...</td>\n",
       "      <td>0.0</td>\n",
       "      <td>0.0</td>\n",
       "      <td>0.0</td>\n",
       "      <td>0.0</td>\n",
       "      <td>0.0</td>\n",
       "      <td>0.0</td>\n",
       "      <td>0.0</td>\n",
       "      <td>0.0</td>\n",
       "      <td>0.0</td>\n",
       "      <td>0.0</td>\n",
       "    </tr>\n",
       "    <tr>\n",
       "      <th>3</th>\n",
       "      <td>0.0</td>\n",
       "      <td>0.0</td>\n",
       "      <td>0.0</td>\n",
       "      <td>0.0</td>\n",
       "      <td>0.0</td>\n",
       "      <td>0.0</td>\n",
       "      <td>0.0</td>\n",
       "      <td>0.0</td>\n",
       "      <td>0.0</td>\n",
       "      <td>0.0</td>\n",
       "      <td>...</td>\n",
       "      <td>0.0</td>\n",
       "      <td>0.0</td>\n",
       "      <td>0.0</td>\n",
       "      <td>0.0</td>\n",
       "      <td>0.0</td>\n",
       "      <td>0.0</td>\n",
       "      <td>0.0</td>\n",
       "      <td>0.0</td>\n",
       "      <td>0.0</td>\n",
       "      <td>0.0</td>\n",
       "    </tr>\n",
       "    <tr>\n",
       "      <th>4</th>\n",
       "      <td>0.0</td>\n",
       "      <td>0.0</td>\n",
       "      <td>0.0</td>\n",
       "      <td>0.0</td>\n",
       "      <td>0.0</td>\n",
       "      <td>0.0</td>\n",
       "      <td>0.0</td>\n",
       "      <td>0.0</td>\n",
       "      <td>0.0</td>\n",
       "      <td>0.0</td>\n",
       "      <td>...</td>\n",
       "      <td>0.0</td>\n",
       "      <td>0.0</td>\n",
       "      <td>0.0</td>\n",
       "      <td>0.0</td>\n",
       "      <td>0.0</td>\n",
       "      <td>0.0</td>\n",
       "      <td>0.0</td>\n",
       "      <td>0.0</td>\n",
       "      <td>0.0</td>\n",
       "      <td>0.0</td>\n",
       "    </tr>\n",
       "    <tr>\n",
       "      <th>5</th>\n",
       "      <td>4.0</td>\n",
       "      <td>0.0</td>\n",
       "      <td>0.0</td>\n",
       "      <td>0.0</td>\n",
       "      <td>0.0</td>\n",
       "      <td>0.0</td>\n",
       "      <td>0.0</td>\n",
       "      <td>0.0</td>\n",
       "      <td>0.0</td>\n",
       "      <td>0.0</td>\n",
       "      <td>...</td>\n",
       "      <td>0.0</td>\n",
       "      <td>0.0</td>\n",
       "      <td>0.0</td>\n",
       "      <td>0.0</td>\n",
       "      <td>0.0</td>\n",
       "      <td>0.0</td>\n",
       "      <td>0.0</td>\n",
       "      <td>0.0</td>\n",
       "      <td>0.0</td>\n",
       "      <td>0.0</td>\n",
       "    </tr>\n",
       "    <tr>\n",
       "      <th>...</th>\n",
       "      <td>...</td>\n",
       "      <td>...</td>\n",
       "      <td>...</td>\n",
       "      <td>...</td>\n",
       "      <td>...</td>\n",
       "      <td>...</td>\n",
       "      <td>...</td>\n",
       "      <td>...</td>\n",
       "      <td>...</td>\n",
       "      <td>...</td>\n",
       "      <td>...</td>\n",
       "      <td>...</td>\n",
       "      <td>...</td>\n",
       "      <td>...</td>\n",
       "      <td>...</td>\n",
       "      <td>...</td>\n",
       "      <td>...</td>\n",
       "      <td>...</td>\n",
       "      <td>...</td>\n",
       "      <td>...</td>\n",
       "      <td>...</td>\n",
       "    </tr>\n",
       "    <tr>\n",
       "      <th>606</th>\n",
       "      <td>2.5</td>\n",
       "      <td>0.0</td>\n",
       "      <td>0.0</td>\n",
       "      <td>0.0</td>\n",
       "      <td>0.0</td>\n",
       "      <td>0.0</td>\n",
       "      <td>2.5</td>\n",
       "      <td>0.0</td>\n",
       "      <td>0.0</td>\n",
       "      <td>0.0</td>\n",
       "      <td>...</td>\n",
       "      <td>0.0</td>\n",
       "      <td>0.0</td>\n",
       "      <td>0.0</td>\n",
       "      <td>0.0</td>\n",
       "      <td>0.0</td>\n",
       "      <td>0.0</td>\n",
       "      <td>0.0</td>\n",
       "      <td>0.0</td>\n",
       "      <td>0.0</td>\n",
       "      <td>0.0</td>\n",
       "    </tr>\n",
       "    <tr>\n",
       "      <th>607</th>\n",
       "      <td>4.0</td>\n",
       "      <td>0.0</td>\n",
       "      <td>0.0</td>\n",
       "      <td>0.0</td>\n",
       "      <td>0.0</td>\n",
       "      <td>0.0</td>\n",
       "      <td>0.0</td>\n",
       "      <td>0.0</td>\n",
       "      <td>0.0</td>\n",
       "      <td>0.0</td>\n",
       "      <td>...</td>\n",
       "      <td>0.0</td>\n",
       "      <td>0.0</td>\n",
       "      <td>0.0</td>\n",
       "      <td>0.0</td>\n",
       "      <td>0.0</td>\n",
       "      <td>0.0</td>\n",
       "      <td>0.0</td>\n",
       "      <td>0.0</td>\n",
       "      <td>0.0</td>\n",
       "      <td>0.0</td>\n",
       "    </tr>\n",
       "    <tr>\n",
       "      <th>608</th>\n",
       "      <td>0.0</td>\n",
       "      <td>0.0</td>\n",
       "      <td>2.0</td>\n",
       "      <td>0.0</td>\n",
       "      <td>0.0</td>\n",
       "      <td>0.0</td>\n",
       "      <td>0.0</td>\n",
       "      <td>0.0</td>\n",
       "      <td>0.0</td>\n",
       "      <td>0.0</td>\n",
       "      <td>...</td>\n",
       "      <td>0.0</td>\n",
       "      <td>0.0</td>\n",
       "      <td>0.0</td>\n",
       "      <td>0.0</td>\n",
       "      <td>0.0</td>\n",
       "      <td>0.0</td>\n",
       "      <td>0.0</td>\n",
       "      <td>0.0</td>\n",
       "      <td>0.0</td>\n",
       "      <td>0.0</td>\n",
       "    </tr>\n",
       "    <tr>\n",
       "      <th>609</th>\n",
       "      <td>3.0</td>\n",
       "      <td>0.0</td>\n",
       "      <td>0.0</td>\n",
       "      <td>0.0</td>\n",
       "      <td>0.0</td>\n",
       "      <td>0.0</td>\n",
       "      <td>0.0</td>\n",
       "      <td>0.0</td>\n",
       "      <td>0.0</td>\n",
       "      <td>0.0</td>\n",
       "      <td>...</td>\n",
       "      <td>0.0</td>\n",
       "      <td>0.0</td>\n",
       "      <td>0.0</td>\n",
       "      <td>0.0</td>\n",
       "      <td>0.0</td>\n",
       "      <td>0.0</td>\n",
       "      <td>0.0</td>\n",
       "      <td>0.0</td>\n",
       "      <td>0.0</td>\n",
       "      <td>0.0</td>\n",
       "    </tr>\n",
       "    <tr>\n",
       "      <th>610</th>\n",
       "      <td>5.0</td>\n",
       "      <td>0.0</td>\n",
       "      <td>0.0</td>\n",
       "      <td>0.0</td>\n",
       "      <td>0.0</td>\n",
       "      <td>5.0</td>\n",
       "      <td>0.0</td>\n",
       "      <td>0.0</td>\n",
       "      <td>0.0</td>\n",
       "      <td>0.0</td>\n",
       "      <td>...</td>\n",
       "      <td>0.0</td>\n",
       "      <td>0.0</td>\n",
       "      <td>0.0</td>\n",
       "      <td>0.0</td>\n",
       "      <td>0.0</td>\n",
       "      <td>0.0</td>\n",
       "      <td>0.0</td>\n",
       "      <td>0.0</td>\n",
       "      <td>0.0</td>\n",
       "      <td>0.0</td>\n",
       "    </tr>\n",
       "  </tbody>\n",
       "</table>\n",
       "<p>610 rows × 8889 columns</p>\n",
       "</div>"
      ],
      "text/plain": [
       "movieId  1       2       3       4       5       6       7       8       \\\n",
       "userId                                                                    \n",
       "1           4.0     0.0     4.0     0.0     0.0     4.0     0.0     0.0   \n",
       "2           0.0     0.0     0.0     0.0     0.0     0.0     0.0     0.0   \n",
       "3           0.0     0.0     0.0     0.0     0.0     0.0     0.0     0.0   \n",
       "4           0.0     0.0     0.0     0.0     0.0     0.0     0.0     0.0   \n",
       "5           4.0     0.0     0.0     0.0     0.0     0.0     0.0     0.0   \n",
       "...         ...     ...     ...     ...     ...     ...     ...     ...   \n",
       "606         2.5     0.0     0.0     0.0     0.0     0.0     2.5     0.0   \n",
       "607         4.0     0.0     0.0     0.0     0.0     0.0     0.0     0.0   \n",
       "608         0.0     0.0     2.0     0.0     0.0     0.0     0.0     0.0   \n",
       "609         3.0     0.0     0.0     0.0     0.0     0.0     0.0     0.0   \n",
       "610         5.0     0.0     0.0     0.0     0.0     5.0     0.0     0.0   \n",
       "\n",
       "movieId  9       10      ...  190219  190221  193565  193567  193573  193579  \\\n",
       "userId                   ...                                                   \n",
       "1           0.0     0.0  ...     0.0     0.0     0.0     0.0     0.0     0.0   \n",
       "2           0.0     0.0  ...     0.0     0.0     0.0     0.0     0.0     0.0   \n",
       "3           0.0     0.0  ...     0.0     0.0     0.0     0.0     0.0     0.0   \n",
       "4           0.0     0.0  ...     0.0     0.0     0.0     0.0     0.0     0.0   \n",
       "5           0.0     0.0  ...     0.0     0.0     0.0     0.0     0.0     0.0   \n",
       "...         ...     ...  ...     ...     ...     ...     ...     ...     ...   \n",
       "606         0.0     0.0  ...     0.0     0.0     0.0     0.0     0.0     0.0   \n",
       "607         0.0     0.0  ...     0.0     0.0     0.0     0.0     0.0     0.0   \n",
       "608         0.0     0.0  ...     0.0     0.0     0.0     0.0     0.0     0.0   \n",
       "609         0.0     0.0  ...     0.0     0.0     0.0     0.0     0.0     0.0   \n",
       "610         0.0     0.0  ...     0.0     0.0     0.0     0.0     0.0     0.0   \n",
       "\n",
       "movieId  193583  193585  193587  193609  \n",
       "userId                                   \n",
       "1           0.0     0.0     0.0     0.0  \n",
       "2           0.0     0.0     0.0     0.0  \n",
       "3           0.0     0.0     0.0     0.0  \n",
       "4           0.0     0.0     0.0     0.0  \n",
       "5           0.0     0.0     0.0     0.0  \n",
       "...         ...     ...     ...     ...  \n",
       "606         0.0     0.0     0.0     0.0  \n",
       "607         0.0     0.0     0.0     0.0  \n",
       "608         0.0     0.0     0.0     0.0  \n",
       "609         0.0     0.0     0.0     0.0  \n",
       "610         0.0     0.0     0.0     0.0  \n",
       "\n",
       "[610 rows x 8889 columns]"
      ]
     },
     "execution_count": 8,
     "metadata": {},
     "output_type": "execute_result"
    }
   ],
   "source": [
    "u_i_mt = train_df.pivot('userId', 'movieId', 'rating').fillna(0)\n",
    "u_i_mt"
   ]
  },
  {
   "cell_type": "markdown",
   "id": "false-alberta",
   "metadata": {},
   "source": [
    "### User-based CF"
   ]
  },
  {
   "cell_type": "code",
   "execution_count": 9,
   "id": "partial-longitude",
   "metadata": {},
   "outputs": [],
   "source": [
    "from sklearn.metrics.pairwise import cosine_similarity"
   ]
  },
  {
   "cell_type": "code",
   "execution_count": 10,
   "id": "serious-necessity",
   "metadata": {},
   "outputs": [],
   "source": [
    "user_sim = cosine_similarity(u_i_mt, u_i_mt)"
   ]
  },
  {
   "cell_type": "code",
   "execution_count": 11,
   "id": "tender-procurement",
   "metadata": {},
   "outputs": [
    {
     "data": {
      "text/plain": [
       "numpy.ndarray"
      ]
     },
     "execution_count": 11,
     "metadata": {},
     "output_type": "execute_result"
    }
   ],
   "source": [
    "type(user_sim)"
   ]
  },
  {
   "cell_type": "code",
   "execution_count": 12,
   "id": "legitimate-universal",
   "metadata": {},
   "outputs": [
    {
     "data": {
      "text/plain": [
       "(610, 610)"
      ]
     },
     "execution_count": 12,
     "metadata": {},
     "output_type": "execute_result"
    }
   ],
   "source": [
    "user_sim.shape"
   ]
  },
  {
   "cell_type": "code",
   "execution_count": 13,
   "id": "demanding-trauma",
   "metadata": {},
   "outputs": [
    {
     "data": {
      "text/html": [
       "<div>\n",
       "<style scoped>\n",
       "    .dataframe tbody tr th:only-of-type {\n",
       "        vertical-align: middle;\n",
       "    }\n",
       "\n",
       "    .dataframe tbody tr th {\n",
       "        vertical-align: top;\n",
       "    }\n",
       "\n",
       "    .dataframe thead th {\n",
       "        text-align: right;\n",
       "    }\n",
       "</style>\n",
       "<table border=\"1\" class=\"dataframe\">\n",
       "  <thead>\n",
       "    <tr style=\"text-align: right;\">\n",
       "      <th>userId</th>\n",
       "      <th>1</th>\n",
       "      <th>2</th>\n",
       "      <th>3</th>\n",
       "      <th>4</th>\n",
       "      <th>5</th>\n",
       "      <th>6</th>\n",
       "      <th>7</th>\n",
       "      <th>8</th>\n",
       "      <th>9</th>\n",
       "      <th>10</th>\n",
       "      <th>...</th>\n",
       "      <th>601</th>\n",
       "      <th>602</th>\n",
       "      <th>603</th>\n",
       "      <th>604</th>\n",
       "      <th>605</th>\n",
       "      <th>606</th>\n",
       "      <th>607</th>\n",
       "      <th>608</th>\n",
       "      <th>609</th>\n",
       "      <th>610</th>\n",
       "    </tr>\n",
       "    <tr>\n",
       "      <th>userId</th>\n",
       "      <th></th>\n",
       "      <th></th>\n",
       "      <th></th>\n",
       "      <th></th>\n",
       "      <th></th>\n",
       "      <th></th>\n",
       "      <th></th>\n",
       "      <th></th>\n",
       "      <th></th>\n",
       "      <th></th>\n",
       "      <th></th>\n",
       "      <th></th>\n",
       "      <th></th>\n",
       "      <th></th>\n",
       "      <th></th>\n",
       "      <th></th>\n",
       "      <th></th>\n",
       "      <th></th>\n",
       "      <th></th>\n",
       "      <th></th>\n",
       "      <th></th>\n",
       "    </tr>\n",
       "  </thead>\n",
       "  <tbody>\n",
       "    <tr>\n",
       "      <th>1</th>\n",
       "      <td>1.000000</td>\n",
       "      <td>0.035851</td>\n",
       "      <td>0.072229</td>\n",
       "      <td>0.163819</td>\n",
       "      <td>0.132198</td>\n",
       "      <td>0.141923</td>\n",
       "      <td>0.127616</td>\n",
       "      <td>0.083753</td>\n",
       "      <td>0.066380</td>\n",
       "      <td>0.020214</td>\n",
       "      <td>...</td>\n",
       "      <td>0.053327</td>\n",
       "      <td>0.174144</td>\n",
       "      <td>0.188579</td>\n",
       "      <td>0.077950</td>\n",
       "      <td>0.135921</td>\n",
       "      <td>0.130039</td>\n",
       "      <td>0.215591</td>\n",
       "      <td>0.213103</td>\n",
       "      <td>0.085611</td>\n",
       "      <td>0.127099</td>\n",
       "    </tr>\n",
       "    <tr>\n",
       "      <th>2</th>\n",
       "      <td>0.035851</td>\n",
       "      <td>1.000000</td>\n",
       "      <td>0.000000</td>\n",
       "      <td>0.004723</td>\n",
       "      <td>0.021234</td>\n",
       "      <td>0.033896</td>\n",
       "      <td>0.030002</td>\n",
       "      <td>0.038496</td>\n",
       "      <td>0.000000</td>\n",
       "      <td>0.033198</td>\n",
       "      <td>...</td>\n",
       "      <td>0.189049</td>\n",
       "      <td>0.022387</td>\n",
       "      <td>0.015564</td>\n",
       "      <td>0.000000</td>\n",
       "      <td>0.000000</td>\n",
       "      <td>0.037262</td>\n",
       "      <td>0.000000</td>\n",
       "      <td>0.059655</td>\n",
       "      <td>0.033706</td>\n",
       "      <td>0.092516</td>\n",
       "    </tr>\n",
       "    <tr>\n",
       "      <th>3</th>\n",
       "      <td>0.072229</td>\n",
       "      <td>0.000000</td>\n",
       "      <td>1.000000</td>\n",
       "      <td>0.002627</td>\n",
       "      <td>0.005905</td>\n",
       "      <td>0.004848</td>\n",
       "      <td>0.000000</td>\n",
       "      <td>0.000000</td>\n",
       "      <td>0.000000</td>\n",
       "      <td>0.000000</td>\n",
       "      <td>...</td>\n",
       "      <td>0.006072</td>\n",
       "      <td>0.003735</td>\n",
       "      <td>0.028521</td>\n",
       "      <td>0.000000</td>\n",
       "      <td>0.012927</td>\n",
       "      <td>0.014702</td>\n",
       "      <td>0.002897</td>\n",
       "      <td>0.023233</td>\n",
       "      <td>0.000000</td>\n",
       "      <td>0.026953</td>\n",
       "    </tr>\n",
       "    <tr>\n",
       "      <th>4</th>\n",
       "      <td>0.163819</td>\n",
       "      <td>0.004723</td>\n",
       "      <td>0.002627</td>\n",
       "      <td>1.000000</td>\n",
       "      <td>0.078251</td>\n",
       "      <td>0.081348</td>\n",
       "      <td>0.066388</td>\n",
       "      <td>0.023130</td>\n",
       "      <td>0.013402</td>\n",
       "      <td>0.019947</td>\n",
       "      <td>...</td>\n",
       "      <td>0.062687</td>\n",
       "      <td>0.117292</td>\n",
       "      <td>0.261713</td>\n",
       "      <td>0.045639</td>\n",
       "      <td>0.047881</td>\n",
       "      <td>0.150434</td>\n",
       "      <td>0.108491</td>\n",
       "      <td>0.104666</td>\n",
       "      <td>0.036454</td>\n",
       "      <td>0.096423</td>\n",
       "    </tr>\n",
       "    <tr>\n",
       "      <th>5</th>\n",
       "      <td>0.132198</td>\n",
       "      <td>0.021234</td>\n",
       "      <td>0.005905</td>\n",
       "      <td>0.078251</td>\n",
       "      <td>1.000000</td>\n",
       "      <td>0.262141</td>\n",
       "      <td>0.130235</td>\n",
       "      <td>0.372298</td>\n",
       "      <td>0.000000</td>\n",
       "      <td>0.037666</td>\n",
       "      <td>...</td>\n",
       "      <td>0.083023</td>\n",
       "      <td>0.333826</td>\n",
       "      <td>0.106464</td>\n",
       "      <td>0.209190</td>\n",
       "      <td>0.114114</td>\n",
       "      <td>0.076921</td>\n",
       "      <td>0.158528</td>\n",
       "      <td>0.099468</td>\n",
       "      <td>0.225357</td>\n",
       "      <td>0.039868</td>\n",
       "    </tr>\n",
       "  </tbody>\n",
       "</table>\n",
       "<p>5 rows × 610 columns</p>\n",
       "</div>"
      ],
      "text/plain": [
       "userId       1         2         3         4         5         6         7    \\\n",
       "userId                                                                         \n",
       "1       1.000000  0.035851  0.072229  0.163819  0.132198  0.141923  0.127616   \n",
       "2       0.035851  1.000000  0.000000  0.004723  0.021234  0.033896  0.030002   \n",
       "3       0.072229  0.000000  1.000000  0.002627  0.005905  0.004848  0.000000   \n",
       "4       0.163819  0.004723  0.002627  1.000000  0.078251  0.081348  0.066388   \n",
       "5       0.132198  0.021234  0.005905  0.078251  1.000000  0.262141  0.130235   \n",
       "\n",
       "userId       8         9         10   ...       601       602       603  \\\n",
       "userId                                ...                                 \n",
       "1       0.083753  0.066380  0.020214  ...  0.053327  0.174144  0.188579   \n",
       "2       0.038496  0.000000  0.033198  ...  0.189049  0.022387  0.015564   \n",
       "3       0.000000  0.000000  0.000000  ...  0.006072  0.003735  0.028521   \n",
       "4       0.023130  0.013402  0.019947  ...  0.062687  0.117292  0.261713   \n",
       "5       0.372298  0.000000  0.037666  ...  0.083023  0.333826  0.106464   \n",
       "\n",
       "userId       604       605       606       607       608       609       610  \n",
       "userId                                                                        \n",
       "1       0.077950  0.135921  0.130039  0.215591  0.213103  0.085611  0.127099  \n",
       "2       0.000000  0.000000  0.037262  0.000000  0.059655  0.033706  0.092516  \n",
       "3       0.000000  0.012927  0.014702  0.002897  0.023233  0.000000  0.026953  \n",
       "4       0.045639  0.047881  0.150434  0.108491  0.104666  0.036454  0.096423  \n",
       "5       0.209190  0.114114  0.076921  0.158528  0.099468  0.225357  0.039868  \n",
       "\n",
       "[5 rows x 610 columns]"
      ]
     },
     "execution_count": 13,
     "metadata": {},
     "output_type": "execute_result"
    }
   ],
   "source": [
    "user_sim_df = pd.DataFrame(data=user_sim, columns=u_i_mt.index, index=u_i_mt.index)\n",
    "user_sim_df.head()"
   ]
  },
  {
   "cell_type": "code",
   "execution_count": 14,
   "id": "offshore-equipment",
   "metadata": {},
   "outputs": [
    {
     "data": {
      "text/plain": [
       "(610, 610)"
      ]
     },
     "execution_count": 14,
     "metadata": {},
     "output_type": "execute_result"
    }
   ],
   "source": [
    "user_sim_df.shape"
   ]
  },
  {
   "cell_type": "markdown",
   "id": "boolean-sequence",
   "metadata": {},
   "source": [
    "#### Average Rating"
   ]
  },
  {
   "cell_type": "code",
   "execution_count": 15,
   "id": "painful-blink",
   "metadata": {},
   "outputs": [],
   "source": [
    "# train data의 전체 평균 평점\n",
    "global_average = train_df['rating'].mean()"
   ]
  },
  {
   "cell_type": "code",
   "execution_count": 16,
   "id": "exterior-african",
   "metadata": {},
   "outputs": [
    {
     "data": {
      "application/vnd.jupyter.widget-view+json": {
       "model_id": "919ade1f507e44e1a1b0e7229ab8d5e0",
       "version_major": 2,
       "version_minor": 0
      },
      "text/plain": [
       "0it [00:00, ?it/s]"
      ]
     },
     "metadata": {},
     "output_type": "display_data"
    }
   ],
   "source": [
    "# 전체 test 데이터에 대해서 average rating\n",
    "\n",
    "result = []\n",
    "\n",
    "for _, row in tqdm(test_df.iterrows()):\n",
    "    \n",
    "    user_id = row['userId']\n",
    "    movie_id = row['movieId']\n",
    "    rating = row['rating']\n",
    "    \n",
    "    if movie_id in u_i_mt.columns and user_id in u_i_mt.index:\n",
    "        \n",
    "        u_i_mt_temp = u_i_mt[u_i_mt[movie_id] > 0][[movie_id]]\n",
    "        rating_sum = u_i_mt_temp[movie_id].sum()\n",
    "        n_users = len(u_i_mt_temp)\n",
    "        predicted_rating = rating_sum / n_users\n",
    "        \n",
    "        result.append([user_id, movie_id, rating, predicted_rating])\n",
    "    \n",
    "    else:\n",
    "        result.append([user_id, movie_id, rating, global_average])\n",
    "        \n",
    "    \n",
    "result_df = pd.DataFrame(result, columns=['userId', 'movieId', 'rating', 'predictedRating'])"
   ]
  },
  {
   "cell_type": "code",
   "execution_count": 17,
   "id": "saved-plaza",
   "metadata": {},
   "outputs": [
    {
     "data": {
      "text/html": [
       "<div>\n",
       "<style scoped>\n",
       "    .dataframe tbody tr th:only-of-type {\n",
       "        vertical-align: middle;\n",
       "    }\n",
       "\n",
       "    .dataframe tbody tr th {\n",
       "        vertical-align: top;\n",
       "    }\n",
       "\n",
       "    .dataframe thead th {\n",
       "        text-align: right;\n",
       "    }\n",
       "</style>\n",
       "<table border=\"1\" class=\"dataframe\">\n",
       "  <thead>\n",
       "    <tr style=\"text-align: right;\">\n",
       "      <th></th>\n",
       "      <th>userId</th>\n",
       "      <th>movieId</th>\n",
       "      <th>rating</th>\n",
       "      <th>predictedRating</th>\n",
       "    </tr>\n",
       "  </thead>\n",
       "  <tbody>\n",
       "    <tr>\n",
       "      <th>0</th>\n",
       "      <td>64.0</td>\n",
       "      <td>2291.0</td>\n",
       "      <td>4.0</td>\n",
       "      <td>3.656716</td>\n",
       "    </tr>\n",
       "    <tr>\n",
       "      <th>1</th>\n",
       "      <td>414.0</td>\n",
       "      <td>185.0</td>\n",
       "      <td>2.0</td>\n",
       "      <td>3.000000</td>\n",
       "    </tr>\n",
       "    <tr>\n",
       "      <th>2</th>\n",
       "      <td>60.0</td>\n",
       "      <td>1242.0</td>\n",
       "      <td>4.0</td>\n",
       "      <td>4.111111</td>\n",
       "    </tr>\n",
       "    <tr>\n",
       "      <th>3</th>\n",
       "      <td>230.0</td>\n",
       "      <td>1682.0</td>\n",
       "      <td>2.5</td>\n",
       "      <td>3.779412</td>\n",
       "    </tr>\n",
       "    <tr>\n",
       "      <th>4</th>\n",
       "      <td>431.0</td>\n",
       "      <td>3948.0</td>\n",
       "      <td>3.0</td>\n",
       "      <td>3.450000</td>\n",
       "    </tr>\n",
       "    <tr>\n",
       "      <th>...</th>\n",
       "      <td>...</td>\n",
       "      <td>...</td>\n",
       "      <td>...</td>\n",
       "      <td>...</td>\n",
       "    </tr>\n",
       "    <tr>\n",
       "      <th>20163</th>\n",
       "      <td>480.0</td>\n",
       "      <td>196.0</td>\n",
       "      <td>1.0</td>\n",
       "      <td>2.694444</td>\n",
       "    </tr>\n",
       "    <tr>\n",
       "      <th>20164</th>\n",
       "      <td>387.0</td>\n",
       "      <td>4881.0</td>\n",
       "      <td>3.5</td>\n",
       "      <td>3.769231</td>\n",
       "    </tr>\n",
       "    <tr>\n",
       "      <th>20165</th>\n",
       "      <td>318.0</td>\n",
       "      <td>1273.0</td>\n",
       "      <td>4.0</td>\n",
       "      <td>4.187500</td>\n",
       "    </tr>\n",
       "    <tr>\n",
       "      <th>20166</th>\n",
       "      <td>474.0</td>\n",
       "      <td>832.0</td>\n",
       "      <td>2.0</td>\n",
       "      <td>3.344828</td>\n",
       "    </tr>\n",
       "    <tr>\n",
       "      <th>20167</th>\n",
       "      <td>603.0</td>\n",
       "      <td>3421.0</td>\n",
       "      <td>4.0</td>\n",
       "      <td>3.770833</td>\n",
       "    </tr>\n",
       "  </tbody>\n",
       "</table>\n",
       "<p>20168 rows × 4 columns</p>\n",
       "</div>"
      ],
      "text/plain": [
       "       userId  movieId  rating  predictedRating\n",
       "0        64.0   2291.0     4.0         3.656716\n",
       "1       414.0    185.0     2.0         3.000000\n",
       "2        60.0   1242.0     4.0         4.111111\n",
       "3       230.0   1682.0     2.5         3.779412\n",
       "4       431.0   3948.0     3.0         3.450000\n",
       "...       ...      ...     ...              ...\n",
       "20163   480.0    196.0     1.0         2.694444\n",
       "20164   387.0   4881.0     3.5         3.769231\n",
       "20165   318.0   1273.0     4.0         4.187500\n",
       "20166   474.0    832.0     2.0         3.344828\n",
       "20167   603.0   3421.0     4.0         3.770833\n",
       "\n",
       "[20168 rows x 4 columns]"
      ]
     },
     "execution_count": 17,
     "metadata": {},
     "output_type": "execute_result"
    }
   ],
   "source": [
    "result_df"
   ]
  },
  {
   "cell_type": "code",
   "execution_count": 18,
   "id": "cross-biology",
   "metadata": {},
   "outputs": [],
   "source": [
    "from sklearn.metrics import mean_squared_error, mean_absolute_error"
   ]
  },
  {
   "cell_type": "code",
   "execution_count": 46,
   "id": "certain-million",
   "metadata": {},
   "outputs": [
    {
     "name": "stdout",
     "output_type": "stream",
     "text": [
      "rmse 0.9837487535894798\n",
      "mae 0.758933100235046\n"
     ]
    }
   ],
   "source": [
    "# 성능 구하기\n",
    "\n",
    "# rmse 구하기\n",
    "avg_mse = mean_squared_error(y_true = result_df['rating'].values, y_pred = result_df['predictedRating'].values)\n",
    "avg_rmse = np.sqrt(avg_mse)\n",
    "\n",
    "# mae 구하기\n",
    "avg_mae = mean_absolute_error(y_true = result_df['rating'].values, y_pred = result_df['predictedRating'].values)\n",
    "\n",
    "print(\"rmse\", avg_rmse)\n",
    "print(\"mae\", avg_mae)"
   ]
  },
  {
   "cell_type": "markdown",
   "id": "absent-abuse",
   "metadata": {},
   "source": [
    "####  Weighted Average"
   ]
  },
  {
   "cell_type": "code",
   "execution_count": 25,
   "id": "purple-washer",
   "metadata": {},
   "outputs": [],
   "source": [
    "row = test_df.iloc[0, :]\n",
    "\n",
    "user_id = row['userId']\n",
    "movie_id = row['movieId']\n",
    "rating = row['rating']"
   ]
  },
  {
   "cell_type": "code",
   "execution_count": 26,
   "id": "geological-license",
   "metadata": {},
   "outputs": [
    {
     "data": {
      "text/plain": [
       "2291.0"
      ]
     },
     "execution_count": 26,
     "metadata": {},
     "output_type": "execute_result"
    }
   ],
   "source": [
    "movie_id"
   ]
  },
  {
   "cell_type": "code",
   "execution_count": 28,
   "id": "practical-cedar",
   "metadata": {},
   "outputs": [
    {
     "data": {
      "text/plain": [
       "Int64Index([  1,  18,  33,  47,  51,  57,  66,  80,  91, 100, 103, 114, 122,\n",
       "            153, 177, 182, 187, 200, 202, 212, 226, 230, 232, 246, 274, 287,\n",
       "            288, 292, 301, 307, 311, 313, 330, 332, 357, 362, 365, 368, 381,\n",
       "            387, 391, 392, 401, 414, 424, 425, 428, 434, 448, 450, 474, 477,\n",
       "            480, 483, 489, 509, 534, 560, 561, 590, 593, 597, 599, 600, 603,\n",
       "            605, 606],\n",
       "           dtype='int64', name='userId')"
      ]
     },
     "execution_count": 28,
     "metadata": {},
     "output_type": "execute_result"
    }
   ],
   "source": [
    "movie_ratings = u_i_mt[u_i_mt[movie_id]>0][movie_id]\n",
    "user_ids = movie_ratings.index\n",
    "user_ids"
   ]
  },
  {
   "cell_type": "code",
   "execution_count": 32,
   "id": "posted-present",
   "metadata": {},
   "outputs": [],
   "source": [
    "sim = user_sim_df[user_ids].loc[user_id]"
   ]
  },
  {
   "cell_type": "code",
   "execution_count": 35,
   "id": "varied-child",
   "metadata": {},
   "outputs": [
    {
     "data": {
      "text/plain": [
       "userId\n",
       "1      0.248962\n",
       "18     0.257794\n",
       "33     0.186385\n",
       "47     0.135247\n",
       "51     0.220862\n",
       "         ...   \n",
       "599    0.308934\n",
       "600    0.322104\n",
       "603    0.233522\n",
       "605    0.147796\n",
       "606    0.251187\n",
       "Name: 64, Length: 67, dtype: float64"
      ]
     },
     "execution_count": 35,
     "metadata": {},
     "output_type": "execute_result"
    }
   ],
   "source": [
    "sim"
   ]
  },
  {
   "cell_type": "code",
   "execution_count": 37,
   "id": "mature-length",
   "metadata": {},
   "outputs": [
    {
     "data": {
      "text/plain": [
       "61.287749701938225"
      ]
     },
     "execution_count": 37,
     "metadata": {},
     "output_type": "execute_result"
    }
   ],
   "source": [
    "np.inner(movie_ratings.values, sim)"
   ]
  },
  {
   "cell_type": "code",
   "execution_count": 40,
   "id": "prompt-basis",
   "metadata": {},
   "outputs": [
    {
     "data": {
      "text/plain": [
       "16.682378942802867"
      ]
     },
     "execution_count": 40,
     "metadata": {},
     "output_type": "execute_result"
    }
   ],
   "source": [
    "sim.sum()"
   ]
  },
  {
   "cell_type": "code",
   "execution_count": 41,
   "id": "complex-jesus",
   "metadata": {},
   "outputs": [
    {
     "data": {
      "application/vnd.jupyter.widget-view+json": {
       "model_id": "fdbe7bbb226149909bffb48144fab1af",
       "version_major": 2,
       "version_minor": 0
      },
      "text/plain": [
       "0it [00:00, ?it/s]"
      ]
     },
     "metadata": {},
     "output_type": "display_data"
    }
   ],
   "source": [
    "result = []\n",
    "\n",
    "for _, row in tqdm(test_df.iterrows()):\n",
    "    \n",
    "    user_id = row['userId']\n",
    "    movie_id = row['movieId']\n",
    "    rating = row['rating']\n",
    "    \n",
    "    if movie_id in u_i_mt.columns and user_id in u_i_mt.index:\n",
    "        \n",
    "        movie_ratings = u_i_mt[u_i_mt[movie_id]>0][movie_id]\n",
    "        user_ids = movie_ratings.index\n",
    "        \n",
    "        sim = user_sim_df[user_ids].loc[user_id]\n",
    "        \n",
    "        rating_sum = np.inner(movie_ratings.values, sim)\n",
    "        sim_sum = sim.sum()\n",
    "        \n",
    "        if sim_sum == 0:\n",
    "            continue\n",
    "        predicted_rating = rating_sum / sim_sum\n",
    "        \n",
    "        result.append([user_id, movie_id, rating, predicted_rating])\n",
    "    else:\n",
    "        result.append([user_id, movie_id, rating, global_average])\n",
    "    \n",
    "weighted_average_result_df = pd.DataFrame(result, columns=['userId', 'movieId', 'rating', 'predictedRating'])"
   ]
  },
  {
   "cell_type": "code",
   "execution_count": 47,
   "id": "enhanced-demonstration",
   "metadata": {},
   "outputs": [
    {
     "name": "stdout",
     "output_type": "stream",
     "text": [
      "rmse 0.9779688128133676\n",
      "mae 0.7541945124419374\n"
     ]
    }
   ],
   "source": [
    "# 성능 구하기\n",
    "\n",
    "# rmse 구하기\n",
    "w_mse = mean_squared_error(y_true = weighted_average_result_df['rating'].values,\n",
    "                         y_pred = weighted_average_result_df['predictedRating'].values)\n",
    "w_rmse = np.sqrt(w_mse)\n",
    "\n",
    "# mae 구하기\n",
    "w_mae = mean_absolute_error(y_true = weighted_average_result_df['rating'].values,\n",
    "                          y_pred = weighted_average_result_df['predictedRating'].values)\n",
    "\n",
    "print(\"rmse\", w_rmse)\n",
    "print(\"mae\", w_mae)"
   ]
  },
  {
   "cell_type": "markdown",
   "id": "supreme-dallas",
   "metadata": {},
   "source": [
    "#### K-Nearest Neighbor CF"
   ]
  },
  {
   "cell_type": "code",
   "execution_count": 45,
   "id": "traditional-migration",
   "metadata": {},
   "outputs": [
    {
     "data": {
      "application/vnd.jupyter.widget-view+json": {
       "model_id": "719ac2ed357f420294bdff17ebb7920b",
       "version_major": 2,
       "version_minor": 0
      },
      "text/plain": [
       "0it [00:00, ?it/s]"
      ]
     },
     "metadata": {},
     "output_type": "display_data"
    }
   ],
   "source": [
    "# 전체 test 데이터에 대해서 similarity가 높은 유저 k명에 대해서만 weighted average rating\n",
    "\n",
    "k = 20\n",
    "\n",
    "result = []\n",
    "\n",
    "for _, row in tqdm(test_df.iterrows()):\n",
    "    \n",
    "    user_id = row['userId']\n",
    "    movie_id = row['movieId']\n",
    "    rating = row['rating']\n",
    "    \n",
    "    if movie_id in u_i_mt.columns and user_id in u_i_mt.index:\n",
    "        \n",
    "        # 영화에 평점을 매긴 다른 유저들을 가져옵니다\n",
    "        movie_ratings = u_i_mt[u_i_mt[movie_id] > 0][movie_id]\n",
    "        user_ids = movie_ratings.index\n",
    "        \n",
    "        # 예측하려는 유저와 해당 영화에 평점을 매긴 다른 유저들 가운데 유사도가 높은 k명의 유저만을 사용합니다.\n",
    "        sim_k = user_sim_df[user_ids].loc[user_id].sort_values(ascending=False)[:k]\n",
    "        movie_ratings_k = movie_ratings[sim_k.index]\n",
    "        \n",
    "        # 유사도가 높은 k명의 유저의 유사도와 평점을 사용하여 예측 유저의 평점을 예측합니다.\n",
    "        rating_sum = np.inner(movie_ratings_k.values, sim_k)\n",
    "        sim_sum = sim_k.sum()\n",
    "        \n",
    "        if sim_sum == 0:\n",
    "            result.append([user_id, movie_id, rating, global_average])\n",
    "            continue\n",
    "        \n",
    "        predicted_rating = rating_sum / sim_sum\n",
    "        \n",
    "        result.append([user_id, movie_id, rating, predicted_rating])\n",
    "    \n",
    "    else:\n",
    "        result.append([user_id, movie_id, rating, global_average])\n",
    "    \n",
    "k_weighted_average_result_df = pd.DataFrame(result, columns=['userId', 'movieId', 'rating', 'predictedRating'])"
   ]
  },
  {
   "cell_type": "code",
   "execution_count": 48,
   "id": "amber-handy",
   "metadata": {},
   "outputs": [
    {
     "name": "stdout",
     "output_type": "stream",
     "text": [
      "rmse 0.9775970407807314\n",
      "mae 0.7531149381016463\n"
     ]
    }
   ],
   "source": [
    "# 성능 구하기\n",
    "\n",
    "# rmse 구하기\n",
    "k_mse = mean_squared_error(y_true = k_weighted_average_result_df['rating'].values,\n",
    "                         y_pred = k_weighted_average_result_df['predictedRating'].values)\n",
    "k_rmse = np.sqrt(k_mse)\n",
    "\n",
    "# mae 구하기\n",
    "k_mae = mean_absolute_error(y_true = k_weighted_average_result_df['rating'].values,\n",
    "                          y_pred = k_weighted_average_result_df['predictedRating'].values)\n",
    "\n",
    "print(\"rmse\", k_rmse)\n",
    "print(\"mae\", k_mae)"
   ]
  },
  {
   "cell_type": "code",
   "execution_count": 54,
   "id": "sporting-constitution",
   "metadata": {},
   "outputs": [
    {
     "data": {
      "text/html": [
       "<div>\n",
       "<style scoped>\n",
       "    .dataframe tbody tr th:only-of-type {\n",
       "        vertical-align: middle;\n",
       "    }\n",
       "\n",
       "    .dataframe tbody tr th {\n",
       "        vertical-align: top;\n",
       "    }\n",
       "\n",
       "    .dataframe thead th {\n",
       "        text-align: right;\n",
       "    }\n",
       "</style>\n",
       "<table border=\"1\" class=\"dataframe\">\n",
       "  <thead>\n",
       "    <tr style=\"text-align: right;\">\n",
       "      <th></th>\n",
       "      <th>type</th>\n",
       "      <th>rmse</th>\n",
       "      <th>mae</th>\n",
       "    </tr>\n",
       "  </thead>\n",
       "  <tbody>\n",
       "    <tr>\n",
       "      <th>0</th>\n",
       "      <td>Average</td>\n",
       "      <td>0.983749</td>\n",
       "      <td>0.758933</td>\n",
       "    </tr>\n",
       "    <tr>\n",
       "      <th>1</th>\n",
       "      <td>Weighted</td>\n",
       "      <td>0.977969</td>\n",
       "      <td>0.754195</td>\n",
       "    </tr>\n",
       "    <tr>\n",
       "      <th>2</th>\n",
       "      <td>KNN</td>\n",
       "      <td>0.977597</td>\n",
       "      <td>0.753115</td>\n",
       "    </tr>\n",
       "  </tbody>\n",
       "</table>\n",
       "</div>"
      ],
      "text/plain": [
       "       type      rmse       mae\n",
       "0   Average  0.983749  0.758933\n",
       "1  Weighted  0.977969  0.754195\n",
       "2       KNN  0.977597  0.753115"
      ]
     },
     "execution_count": 54,
     "metadata": {},
     "output_type": "execute_result"
    }
   ],
   "source": [
    "comp_result = pd.DataFrame({'type':['Average', 'Weighted', 'KNN'],\n",
    "                            'rmse':[avg_rmse, w_rmse, k_rmse], \n",
    "                            'mae':[avg_mae, w_mae, k_mae]})\n",
    "comp_result"
   ]
  }
 ],
 "metadata": {
  "kernelspec": {
   "display_name": "Python 3",
   "language": "python",
   "name": "python3"
  },
  "language_info": {
   "codemirror_mode": {
    "name": "ipython",
    "version": 3
   },
   "file_extension": ".py",
   "mimetype": "text/x-python",
   "name": "python",
   "nbconvert_exporter": "python",
   "pygments_lexer": "ipython3",
   "version": "3.8.8"
  }
 },
 "nbformat": 4,
 "nbformat_minor": 5
}
