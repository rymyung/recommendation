{
 "cells": [
  {
   "cell_type": "markdown",
   "id": "reasonable-courtesy",
   "metadata": {},
   "source": [
    "# 추천시스템 평가"
   ]
  },
  {
   "cell_type": "markdown",
   "id": "nervous-tuning",
   "metadata": {},
   "source": [
    "## 좋은 추천시스템을 만들기 위해 고려해야할 항목"
   ]
  },
  {
   "cell_type": "markdown",
   "id": "south-bacon",
   "metadata": {},
   "source": [
    "1. 성능 좋고, 빠르고, 설명 가능한 추천 알고리즘\n",
    "    * 적절한 아이템을 빠르게 찾고, 해당 아이템을 추천하는 이유\n",
    "2. 추천시스템에 필요한 데이터(User / Item Profiling)\n",
    "    * 추천 알고리즘을 만들기 위한 좋은 데이터 확보\n",
    "    * 적절한 추천을 위한 후보군 설정\n",
    "3. 추천시스템의 목적\n",
    "    * 추천시스템을 통해 비즈니스 역량 확대, 매출 증대, CTR 증가 등 다양한 목적\n",
    "4. 플랫폼 내에서 추천시스템의 역할\n",
    "    * 추천시스템이 주요 기능이고 필수인지 또는 추천시스템이 옵션인지 역할 정의\n",
    "5. 플랫폼 사용자\n",
    "    * 사용자에게 어떤 정보를 받는지, 사용자는 어떤 환경인지, 어떻게 서비스를 이용하는지 확인"
   ]
  },
  {
   "cell_type": "markdown",
   "id": "armed-discharge",
   "metadata": {},
   "source": [
    "### 비즈니스 / 서비스 관점\n",
    "* 추천시스템 적용으로 인해 매출, PV의 증가\n",
    "* 새로운 추천 아이템으로 인해 유저의 CTR의 상승"
   ]
  },
  {
   "cell_type": "markdown",
   "id": "angry-sewing",
   "metadata": {},
   "source": [
    "### 품질 관점\n",
    "* 연관성(Relevance) : 추천된 아이템이 유저에게 관련이 있는가?\n",
    "* 다양성(Diversity): 추천된 Top-K 아이템에 얼마나 다양한 아이템이 추천되는가?\n",
    "* 새로움(Novelty): 얼마나 새로운 아이템이 추천되고 있는가?\n",
    "* 참신함(Serendipity): 유저가 기대하지 못한 뜻밖의 아이템이 추천되는가?"
   ]
  },
  {
   "cell_type": "markdown",
   "id": "smoking-helen",
   "metadata": {},
   "source": [
    "## 추천시스템의 성능 평가 방법"
   ]
  },
  {
   "cell_type": "markdown",
   "id": "continuous-participant",
   "metadata": {},
   "source": [
    "### Offline Test"
   ]
  },
  {
   "cell_type": "markdown",
   "id": "flexible-compact",
   "metadata": {},
   "source": [
    "* 새로운 추천 모델을 검증하기 위해 가장 먼저 필요한 단계\n",
    "* 유저로부터 이미 수집한 데이터를 Train/Valid/Test 로 나누어 모델의 성능을 객관적인 지표로 평가\n",
    "* RMSE 등 정량적인 지표를 활용한 객관적인 평가 가능\n",
    "* 수집된 데이터를 바탕으로 평가가 이루어지므로, 실제 서비스 상황에서 다르게 적용될 수 있음\n",
    "* 다양한 추천 알고리즘을 쉽고 빠르게 평가할 수 있음\n",
    "* 보통 Offline Test에서 좋은 성능을 보여야 Online 서빙에 투입되지만, 실제 서비스 상황에서는 다양한 양상을 보임(Serving Bias 존재)"
   ]
  },
  {
   "cell_type": "markdown",
   "id": "postal-voluntary",
   "metadata": {},
   "source": [
    "**성능지표**\n",
    "* Precision@K, Recall@K ,MAP\n",
    "* NDCG, Hit Rate\n",
    "* RMSE, MAE"
   ]
  },
  {
   "cell_type": "markdown",
   "id": "severe-timeline",
   "metadata": {},
   "source": [
    "### Online Test"
   ]
  },
  {
   "cell_type": "markdown",
   "id": "forward-seating",
   "metadata": {},
   "source": [
    "* Offline Test에서 검증된 가설이나 모델을 이용해 실제 추천 결과를 서빙하는 단계\n",
    "* 추천 시스템 변경 전후의 성능을 비교하는 것이 아니라, 동시에 대조군(A)과 실험군(B)의 성능을 평가\n",
    "    * 단, 대조군과 실험군의 환경을 동일해야함\n",
    "* 실제 서비스를 통해 얻어지느 결과를 토해 최종 의사결정이 이루어짐\n",
    "* 대부분 현업에서 의사결정을 위해 사용하는 최종 지표는 모델 성능(RMSE, nDCG 등)이 아닌 매출, CTR 등의 비즈니스/서비스 지표임"
   ]
  },
  {
   "cell_type": "markdown",
   "id": "adopted-segment",
   "metadata": {},
   "source": [
    "## Offline Test 성능지표"
   ]
  },
  {
   "cell_type": "markdown",
   "id": "wicked-italy",
   "metadata": {},
   "source": [
    "### Precision@K"
   ]
  },
  {
   "cell_type": "markdown",
   "id": "false-folder",
   "metadata": {},
   "source": [
    "우리가 추천한 K개 아이템 가운데 실제 유저가 관심있는 아이템의 비율"
   ]
  },
  {
   "cell_type": "markdown",
   "id": "cellular-brazilian",
   "metadata": {},
   "source": [
    "### Recall@K"
   ]
  },
  {
   "cell_type": "markdown",
   "id": "effective-racing",
   "metadata": {},
   "source": [
    "유저가 관심있는 전체 아이템 가운데 우리가 추천한 아이템의 비율"
   ]
  },
  {
   "cell_type": "markdown",
   "id": "sweet-torture",
   "metadata": {},
   "source": [
    "### MAP(Mean Average Precision@K)"
   ]
  },
  {
   "cell_type": "markdown",
   "id": "regulated-neighborhood",
   "metadata": {},
   "source": [
    "**Average Precision**\n",
    "* Precision@1부터 Precision@K까지의 평균값을 의미함\n",
    "* Precision@K와 다르게 relevant한 아이템을 더 높은 순위에 추천할 경우 점수가 상승함"
   ]
  },
  {
   "cell_type": "markdown",
   "id": "ongoing-pension",
   "metadata": {},
   "source": [
    "$$ AP@K = \\frac{1}{m} \\sum^K_{i=1}Precision@i $$"
   ]
  },
  {
   "cell_type": "markdown",
   "id": "dutch-field",
   "metadata": {},
   "source": [
    "**Mean Average Precision**\n",
    "모든 유저에 대한 Average Precision 값의 평균 -> 추천 시스템의 성능"
   ]
  },
  {
   "cell_type": "markdown",
   "id": "genetic-ottawa",
   "metadata": {},
   "source": [
    "$$ MAP@K = \\frac{1}{|U|} \\sum^{|U|}_{u=1} (AP@K)_u $$"
   ]
  },
  {
   "cell_type": "markdown",
   "id": "minimal-liberia",
   "metadata": {},
   "source": [
    "### nDCG(Normalized Discounted Cumulative Gain)"
   ]
  },
  {
   "cell_type": "markdown",
   "id": "considerable-proxy",
   "metadata": {},
   "source": [
    "* 추천시스템에 가장 많이 사용되는 지표 중 하나, 원래는 검색(Information Retrieval)에서 등장한 지표\n",
    "* Precision@K, MAP@K와 마찬가지로 Top K 추천 리스트를 만들고 유저가 선호하는 아이템을 비교하여 값을 구함\n",
    "* MAP@K처럼 nDCG는 추천의 순서에 가중치를 더 많이 두어 성능을 평가하며 1에 가까울수록 좋음\n",
    "* MAP는 관련 여부를 binary(0/1)로 평가하지만, nDCG는 관련도 값을 사용할 수 있기 때문에 유저에게 더 관련있는 아이템을 상위로 노출시키는지 알 수 있음"
   ]
  },
  {
   "cell_type": "markdown",
   "id": "square-center",
   "metadata": {},
   "source": [
    "**Cumulative Gain**\n",
    "* 상위 K개 아이템에 대하여 관련도를 합한 것\n",
    "* 순서에 따라 Discount하지 않고 동일하게 더한 값\n",
    "$$ CG_K = \\sum^{K}_{i=1} rel_i $$"
   ]
  },
  {
   "cell_type": "markdown",
   "id": "combined-edgar",
   "metadata": {},
   "source": [
    "**Discounted Cumulative Gain**\n",
    "* 순서에 따라 log값으로 나누어 Cumulative Gain을 Discount함\n",
    "$$ DCG_K = \\sum^{K}_{i=1} \\frac{rel_i}{log_2(i+1)} $$"
   ]
  },
  {
   "cell_type": "markdown",
   "id": "informational-softball",
   "metadata": {},
   "source": [
    "**Idea DCG**\n",
    "* 이상적인 추천이 일어났을 때의 DCG값\n",
    "* 가능한 DCG 값 중에 제일 큼"
   ]
  },
  {
   "cell_type": "markdown",
   "id": "funky-mattress",
   "metadata": {},
   "source": [
    "**Normalized DCG**\n",
    "* 추천 결과에 따라 구해진 DCG를 IDCG로 나눈 값\n",
    "* 따라서 nDCG는 최대 1\n",
    "$$ NDCG = \\frac{DCG}{IDCG} $$"
   ]
  },
  {
   "cell_type": "markdown",
   "id": "understood-moldova",
   "metadata": {},
   "source": [
    "### Hit Rate @K"
   ]
  },
  {
   "cell_type": "markdown",
   "id": "fuzzy-spanish",
   "metadata": {},
   "source": [
    "* 특정 유저의 선호거나 클릭했던 모든 Item을 가져옴\n",
    "* 모든 Item 가운데 하나만 의도적으로 제거(Leave-One_out Cross-Validation)\n",
    "* 남은 Item들을 가지고 추천 모델을 학습한 뒤, Top K 추천 리스트를 추출\n",
    "* K개의 추천 리스트 가운데 아까 제거한 Item이 있다면 hit, 그렇지 않다면 no hit\n",
    "$$ Hit Rate = \\frac{\\text{Number of hit user}}{\\text{Number of user}} $$"
   ]
  },
  {
   "cell_type": "markdown",
   "id": "promising-connecticut",
   "metadata": {},
   "source": [
    "### RMSE"
   ]
  },
  {
   "cell_type": "markdown",
   "id": "outside-assignment",
   "metadata": {},
   "source": [
    "$$ RMSE = \\sqrt{\\frac{1}{|\\hat{R}|} \\sum_{\\hat{r}_{ui}\\in\\hat{R}}(r_{ui} - \\hat{r}_{ui})^2} $$"
   ]
  },
  {
   "cell_type": "markdown",
   "id": "conservative-language",
   "metadata": {},
   "source": [
    "### MAE"
   ]
  },
  {
   "cell_type": "markdown",
   "id": "exact-radiation",
   "metadata": {},
   "source": [
    "$$ MAE = \\frac{1}{|\\hat{R}|} \\sum_{\\hat{r}_{ui}\\in\\hat{R}}|r_{ui} - \\hat{r}_{ui}| $$"
   ]
  },
  {
   "cell_type": "markdown",
   "id": "sapphire-siemens",
   "metadata": {},
   "source": [
    "* RMSE가 MAE보다는 outlier나 bad prediction에 취약함\n",
    "* RMSE는 절대값이 없기 때문에 수학적으로 간편\n",
    "    * 대부분의 Machine Learning 모델은 RMSE를 손실함수로 사용"
   ]
  },
  {
   "cell_type": "markdown",
   "id": "buried-carnival",
   "metadata": {},
   "source": [
    "## 성능지표 계산해보기"
   ]
  },
  {
   "cell_type": "markdown",
   "id": "sensitive-cleaner",
   "metadata": {},
   "source": [
    "- **사용자가 영화를 선호한다는 정의는 4.0점 이상의 평가를 내린 것으로 가정**\n",
    "- 평균 평점 기반 추천 로직을 사용하고, 이를 통해 지표를 직접 계산"
   ]
  },
  {
   "cell_type": "code",
   "execution_count": 21,
   "id": "persistent-ethnic",
   "metadata": {},
   "outputs": [],
   "source": [
    "import os\n",
    "import pandas as pd\n",
    "import numpy as np"
   ]
  },
  {
   "cell_type": "code",
   "execution_count": 8,
   "id": "convenient-soldier",
   "metadata": {},
   "outputs": [],
   "source": [
    "path = '/Users/yeomyungro/Documents/github/recommendation/'"
   ]
  },
  {
   "cell_type": "code",
   "execution_count": 9,
   "id": "undefined-mistress",
   "metadata": {},
   "outputs": [],
   "source": [
    "rating = pd.read_csv(path+\"data/ml-latest-small/ratings.csv\", encoding=\"utf-8\")\n",
    "tag = pd.read_csv(path+\"data/ml-latest-small/tags.csv\", encoding=\"utf-8\")\n",
    "movie = pd.read_csv(path+\"data/ml-latest-small/movies.csv\", encoding=\"utf-8\")"
   ]
  },
  {
   "cell_type": "code",
   "execution_count": 10,
   "id": "dimensional-consideration",
   "metadata": {},
   "outputs": [
    {
     "data": {
      "text/html": [
       "<div>\n",
       "<style scoped>\n",
       "    .dataframe tbody tr th:only-of-type {\n",
       "        vertical-align: middle;\n",
       "    }\n",
       "\n",
       "    .dataframe tbody tr th {\n",
       "        vertical-align: top;\n",
       "    }\n",
       "\n",
       "    .dataframe thead th {\n",
       "        text-align: right;\n",
       "    }\n",
       "</style>\n",
       "<table border=\"1\" class=\"dataframe\">\n",
       "  <thead>\n",
       "    <tr style=\"text-align: right;\">\n",
       "      <th></th>\n",
       "      <th>userId</th>\n",
       "      <th>movieId</th>\n",
       "      <th>rating</th>\n",
       "      <th>timestamp</th>\n",
       "    </tr>\n",
       "  </thead>\n",
       "  <tbody>\n",
       "    <tr>\n",
       "      <th>0</th>\n",
       "      <td>1</td>\n",
       "      <td>1</td>\n",
       "      <td>4.0</td>\n",
       "      <td>964982703</td>\n",
       "    </tr>\n",
       "    <tr>\n",
       "      <th>1</th>\n",
       "      <td>1</td>\n",
       "      <td>3</td>\n",
       "      <td>4.0</td>\n",
       "      <td>964981247</td>\n",
       "    </tr>\n",
       "    <tr>\n",
       "      <th>2</th>\n",
       "      <td>1</td>\n",
       "      <td>6</td>\n",
       "      <td>4.0</td>\n",
       "      <td>964982224</td>\n",
       "    </tr>\n",
       "    <tr>\n",
       "      <th>3</th>\n",
       "      <td>1</td>\n",
       "      <td>47</td>\n",
       "      <td>5.0</td>\n",
       "      <td>964983815</td>\n",
       "    </tr>\n",
       "    <tr>\n",
       "      <th>4</th>\n",
       "      <td>1</td>\n",
       "      <td>50</td>\n",
       "      <td>5.0</td>\n",
       "      <td>964982931</td>\n",
       "    </tr>\n",
       "  </tbody>\n",
       "</table>\n",
       "</div>"
      ],
      "text/plain": [
       "   userId  movieId  rating  timestamp\n",
       "0       1        1     4.0  964982703\n",
       "1       1        3     4.0  964981247\n",
       "2       1        6     4.0  964982224\n",
       "3       1       47     5.0  964983815\n",
       "4       1       50     5.0  964982931"
      ]
     },
     "execution_count": 10,
     "metadata": {},
     "output_type": "execute_result"
    }
   ],
   "source": [
    "rating.head()"
   ]
  },
  {
   "cell_type": "code",
   "execution_count": 12,
   "id": "laughing-burke",
   "metadata": {},
   "outputs": [],
   "source": [
    "from sklearn.model_selection import train_test_split"
   ]
  },
  {
   "cell_type": "code",
   "execution_count": 13,
   "id": "upper-syracuse",
   "metadata": {},
   "outputs": [],
   "source": [
    "train_df, test_df = train_test_split(rating, test_size=0.2, random_state=1990)"
   ]
  },
  {
   "cell_type": "code",
   "execution_count": 14,
   "id": "centered-grammar",
   "metadata": {},
   "outputs": [
    {
     "name": "stdout",
     "output_type": "stream",
     "text": [
      "(80668, 4)\n",
      "(20168, 4)\n"
     ]
    }
   ],
   "source": [
    "print(train_df.shape)\n",
    "print(test_df.shape)"
   ]
  },
  {
   "cell_type": "code",
   "execution_count": 19,
   "id": "rolled-consistency",
   "metadata": {},
   "outputs": [],
   "source": [
    "movie_summary = pd.DataFrame({\n",
    "    'numUsers': train_df.groupby('movieId')['userId'].nunique(),\n",
    "    'avgRating': train_df.groupby('movieId')['rating'].mean(),\n",
    "    'stdRating': train_df.groupby('movieId')['rating'].std()\n",
    "})"
   ]
  },
  {
   "cell_type": "code",
   "execution_count": 20,
   "id": "associate-accent",
   "metadata": {},
   "outputs": [
    {
     "data": {
      "text/html": [
       "<div>\n",
       "<style scoped>\n",
       "    .dataframe tbody tr th:only-of-type {\n",
       "        vertical-align: middle;\n",
       "    }\n",
       "\n",
       "    .dataframe tbody tr th {\n",
       "        vertical-align: top;\n",
       "    }\n",
       "\n",
       "    .dataframe thead th {\n",
       "        text-align: right;\n",
       "    }\n",
       "</style>\n",
       "<table border=\"1\" class=\"dataframe\">\n",
       "  <thead>\n",
       "    <tr style=\"text-align: right;\">\n",
       "      <th></th>\n",
       "      <th>numUsers</th>\n",
       "      <th>avgRating</th>\n",
       "      <th>stdRating</th>\n",
       "    </tr>\n",
       "    <tr>\n",
       "      <th>movieId</th>\n",
       "      <th></th>\n",
       "      <th></th>\n",
       "      <th></th>\n",
       "    </tr>\n",
       "  </thead>\n",
       "  <tbody>\n",
       "    <tr>\n",
       "      <th>1</th>\n",
       "      <td>178</td>\n",
       "      <td>3.896067</td>\n",
       "      <td>0.864645</td>\n",
       "    </tr>\n",
       "    <tr>\n",
       "      <th>2</th>\n",
       "      <td>94</td>\n",
       "      <td>3.414894</td>\n",
       "      <td>0.902917</td>\n",
       "    </tr>\n",
       "    <tr>\n",
       "      <th>3</th>\n",
       "      <td>43</td>\n",
       "      <td>3.244186</td>\n",
       "      <td>1.054311</td>\n",
       "    </tr>\n",
       "    <tr>\n",
       "      <th>4</th>\n",
       "      <td>6</td>\n",
       "      <td>2.250000</td>\n",
       "      <td>0.880341</td>\n",
       "    </tr>\n",
       "    <tr>\n",
       "      <th>5</th>\n",
       "      <td>33</td>\n",
       "      <td>3.136364</td>\n",
       "      <td>0.929320</td>\n",
       "    </tr>\n",
       "  </tbody>\n",
       "</table>\n",
       "</div>"
      ],
      "text/plain": [
       "         numUsers  avgRating  stdRating\n",
       "movieId                                \n",
       "1             178   3.896067   0.864645\n",
       "2              94   3.414894   0.902917\n",
       "3              43   3.244186   1.054311\n",
       "4               6   2.250000   0.880341\n",
       "5              33   3.136364   0.929320"
      ]
     },
     "execution_count": 20,
     "metadata": {},
     "output_type": "execute_result"
    }
   ],
   "source": [
    "movie_summary.head()"
   ]
  },
  {
   "cell_type": "code",
   "execution_count": 32,
   "id": "accurate-stanley",
   "metadata": {},
   "outputs": [
    {
     "data": {
      "text/html": [
       "<div>\n",
       "<style scoped>\n",
       "    .dataframe tbody tr th:only-of-type {\n",
       "        vertical-align: middle;\n",
       "    }\n",
       "\n",
       "    .dataframe tbody tr th {\n",
       "        vertical-align: top;\n",
       "    }\n",
       "\n",
       "    .dataframe thead th {\n",
       "        text-align: right;\n",
       "    }\n",
       "</style>\n",
       "<table border=\"1\" class=\"dataframe\">\n",
       "  <thead>\n",
       "    <tr style=\"text-align: right;\">\n",
       "      <th></th>\n",
       "      <th>movieId</th>\n",
       "      <th>numUsers</th>\n",
       "      <th>avgRating</th>\n",
       "      <th>stdRating</th>\n",
       "      <th>steamRating</th>\n",
       "    </tr>\n",
       "  </thead>\n",
       "  <tbody>\n",
       "    <tr>\n",
       "      <th>0</th>\n",
       "      <td>318</td>\n",
       "      <td>257</td>\n",
       "      <td>4.431907</td>\n",
       "      <td>0.694730</td>\n",
       "      <td>4.162473</td>\n",
       "    </tr>\n",
       "    <tr>\n",
       "      <th>1</th>\n",
       "      <td>296</td>\n",
       "      <td>242</td>\n",
       "      <td>4.231405</td>\n",
       "      <td>0.947899</td>\n",
       "      <td>3.995465</td>\n",
       "    </tr>\n",
       "    <tr>\n",
       "      <th>2</th>\n",
       "      <td>1196</td>\n",
       "      <td>175</td>\n",
       "      <td>4.251429</td>\n",
       "      <td>0.831966</td>\n",
       "      <td>3.987076</td>\n",
       "    </tr>\n",
       "    <tr>\n",
       "      <th>3</th>\n",
       "      <td>858</td>\n",
       "      <td>150</td>\n",
       "      <td>4.263333</td>\n",
       "      <td>0.956603</td>\n",
       "      <td>3.983790</td>\n",
       "    </tr>\n",
       "    <tr>\n",
       "      <th>4</th>\n",
       "      <td>527</td>\n",
       "      <td>183</td>\n",
       "      <td>4.240437</td>\n",
       "      <td>0.978957</td>\n",
       "      <td>3.981908</td>\n",
       "    </tr>\n",
       "  </tbody>\n",
       "</table>\n",
       "</div>"
      ],
      "text/plain": [
       "   movieId  numUsers  avgRating  stdRating  steamRating\n",
       "0      318       257   4.431907   0.694730     4.162473\n",
       "1      296       242   4.231405   0.947899     3.995465\n",
       "2     1196       175   4.251429   0.831966     3.987076\n",
       "3      858       150   4.263333   0.956603     3.983790\n",
       "4      527       183   4.240437   0.978957     3.981908"
      ]
     },
     "execution_count": 32,
     "metadata": {},
     "output_type": "execute_result"
    }
   ],
   "source": [
    "movie_summary['steamRating'] = movie_summary['avgRating'] - (movie_summary['avgRating'] - 3.0) \\\n",
    "                                  * np.power(2, -np.log10(movie_summary['numUsers']))\n",
    "topk_df = movie_summary.sort_values(by='steamRating', ascending=False).reset_index()\n",
    "topk_df.head()"
   ]
  },
  {
   "cell_type": "markdown",
   "id": "cognitive-hotel",
   "metadata": {},
   "source": [
    "### Precision, Recall, MAP"
   ]
  },
  {
   "cell_type": "code",
   "execution_count": 33,
   "id": "tracked-champagne",
   "metadata": {},
   "outputs": [],
   "source": [
    "# recommend의 길이가 @ k를 의미\n",
    "\n",
    "def get_precision(relevant, recommend):\n",
    "    \n",
    "    _intersection = set(recommend).intersection(set(relevant))\n",
    "    return len(_intersection) / len(recommend)\n",
    "\n",
    "def get_recall(relevant, recommend):\n",
    "    \n",
    "    _intersection = set(recommend).intersection(set(relevant))\n",
    "    return len(_intersection) / len(relevant)\n",
    "\n",
    "def get_average_precision(relevant, recommend):\n",
    "    \n",
    "    _precisions = []\n",
    "    \n",
    "    for i in range(len(recommend)):\n",
    "        _recommend = recommend[:i+1]\n",
    "        _precisions.append(get_precision(relevant, _recommend))\n",
    "    \n",
    "    return np.mean(_precisions)\n"
   ]
  },
  {
   "cell_type": "code",
   "execution_count": 34,
   "id": "consecutive-adobe",
   "metadata": {},
   "outputs": [],
   "source": [
    "# 개별 사용자에 대해서 추천을 수행하고 각 지표를 구한 뒤에 이를 합친다.\n",
    "\n",
    "test_user_set = set(test_df['userId'].unique())\n",
    "\n",
    "k = 10\n",
    "\n",
    "recommend_item = topk_df['movieId'][:k].tolist()"
   ]
  },
  {
   "cell_type": "code",
   "execution_count": 36,
   "id": "arranged-thanks",
   "metadata": {},
   "outputs": [
    {
     "name": "stdout",
     "output_type": "stream",
     "text": [
      "precision@k:  0.05413153456998314\n",
      "recall@k:  0.05583956646876157\n",
      "map@k:  0.06409232045825639\n"
     ]
    }
   ],
   "source": [
    "precisions = []\n",
    "recalls = []\n",
    "average_precisions = []\n",
    "\n",
    "for user_id in list(test_user_set):\n",
    "    \n",
    "    test_user_rating_df = test_df[(test_df['userId'] == user_id) & (test_df['rating'] >= 4.0)]\n",
    "    relevant_item = test_user_rating_df.sort_values(by='rating', ascending=False)['movieId'].tolist()\n",
    "    \n",
    "    \n",
    "    # 테스트 데이터에 있는 유저 가운데 선호 영화가 아예 없는 케이스도 존재함. (4.0이상 평가한 영화가 아예 없는 유저)\n",
    "    if len(relevant_item) == 0:\n",
    "        continue\n",
    "        \n",
    "    # precision@k\n",
    "    \n",
    "    precision = get_precision(relevant_item, recommend_item)\n",
    "    precisions.append(precision)\n",
    "    \n",
    "    # recall@k\n",
    "\n",
    "    recall = get_recall(relevant_item, recommend_item)\n",
    "    recalls.append(recall)\n",
    "    \n",
    "    # map@k\n",
    "    \n",
    "    average_precision = get_average_precision(relevant_item, recommend_item)\n",
    "    average_precisions.append(average_precision)\n",
    "\n",
    "print(\"precision@k: \", np.mean(precisions))\n",
    "print(\"recall@k: \", np.mean(recalls))\n",
    "print(\"map@k: \", np.mean(average_precisions))    "
   ]
  },
  {
   "cell_type": "code",
   "execution_count": null,
   "id": "prostate-livestock",
   "metadata": {},
   "outputs": [],
   "source": []
  }
 ],
 "metadata": {
  "kernelspec": {
   "display_name": "Python 3",
   "language": "python",
   "name": "python3"
  },
  "language_info": {
   "codemirror_mode": {
    "name": "ipython",
    "version": 3
   },
   "file_extension": ".py",
   "mimetype": "text/x-python",
   "name": "python",
   "nbconvert_exporter": "python",
   "pygments_lexer": "ipython3",
   "version": "3.8.8"
  }
 },
 "nbformat": 4,
 "nbformat_minor": 5
}
