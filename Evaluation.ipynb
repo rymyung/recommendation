{
 "cells": [
  {
   "cell_type": "markdown",
   "id": "reasonable-courtesy",
   "metadata": {},
   "source": [
    "# 추천시스템 평가"
   ]
  },
  {
   "cell_type": "markdown",
   "id": "nervous-tuning",
   "metadata": {},
   "source": [
    "## 좋은 추천시스템을 만들기 위해 고려해야할 항목"
   ]
  },
  {
   "cell_type": "markdown",
   "id": "south-bacon",
   "metadata": {},
   "source": [
    "1. 성능 좋고, 빠르고, 설명 가능한 추천 알고리즘\n",
    "    * 적절한 아이템을 빠르게 찾고, 해당 아이템을 추천하는 이유\n",
    "2. 추천시스템에 필요한 데이터(User / Item Profiling)\n",
    "    * 추천 알고리즘을 만들기 위한 좋은 데이터 확보\n",
    "    * 적절한 추천을 위한 후보군 설정\n",
    "3. 추천시스템의 목적\n",
    "    * 추천시스템을 통해 비즈니스 역량 확대, 매출 증대, CTR 증가 등 다양한 목적\n",
    "4. 플랫폼 내에서 추천시스템의 역할\n",
    "    * 추천시스템이 주요 기능이고 필수인지 또는 추천시스템이 옵션인지 역할 정의\n",
    "5. 플랫폼 사용자\n",
    "    * 사용자에게 어떤 정보를 받는지, 사용자는 어떤 환경인지, 어떻게 서비스를 이용하는지 확인"
   ]
  },
  {
   "cell_type": "markdown",
   "id": "smoking-helen",
   "metadata": {},
   "source": [
    "## 추천시스템의 성능 평가 방법"
   ]
  },
  {
   "cell_type": "markdown",
   "id": "talented-longer",
   "metadata": {},
   "source": [
    "* Offline Evaluation\n",
    "    * 추천알고리즘 구현에 사용한 데이터를 Train/Valid/Test로 나누어 평가\n",
    "    * RMSE 등 정량적인 지표를 활용한 객관적인 평가 가능\n",
    "    * 수집된 데이터를 바탕으로 평가가 이루어지므로, 실제 서비스 상황에서 다르게 적용될 수 있음\n",
    "    * 다양한 추천 알고리즘을 쉽고 빠르게 평가할 수 있음\n",
    "* Online Evaluation\n",
    "    * 추천시스템이 적용된 플랫폼에서 실제 사용자의 피드백, 평점 등 활용\n",
    "    * 수집할 수 있는 데이터의 한계가 있으나, 실제 사용자의 데이터이기 때문에 정확한 평가 가능\n",
    "    * 수집한 데이터는 추천서비스 향상에 직접적인 도움을 줄 수 있음"
   ]
  },
  {
   "cell_type": "markdown",
   "id": "developing-binding",
   "metadata": {},
   "source": [
    "## RMSE"
   ]
  },
  {
   "cell_type": "markdown",
   "id": "constitutional-revision",
   "metadata": {},
   "source": [
    "* Root Mean Square Error\n",
    "* $RMSE = \\frac{1}{n}\\sqrt{\\sum_{i=1}^{n}(y_i - \\hat{y_i})^2}$\n",
    "* 예측 대상 값에 영향을 받음(Scale-dependent)\n",
    "    * 같은 0.01의 에러도 어떤 y_pred와 y_actual을 사용했느냐에 따라 다른 의미를 가짐"
   ]
  },
  {
   "cell_type": "markdown",
   "id": "golden-findings",
   "metadata": {},
   "source": [
    "## NDCG"
   ]
  },
  {
   "cell_type": "markdown",
   "id": "psychological-seeker",
   "metadata": {},
   "source": [
    "* Normalized Discounted Cumulative Gain\n",
    "* 랭킹 추천에 많이 사용되는 평가 지표\n",
    "* Top-N 랭킹 리스트를 만들고, 더 관심있거나 관련성 높은 아이템 포함 여부를 평가\n",
    "* 순위에 가중치를 주고, 단순한 랭킹이 아닌 데이터의 성향을 반영하기 위한 평가 지표\n",
    "* MAP(Mean Average Precision), Top-K Precision/Recall 등 평가 방법 보안"
   ]
  },
  {
   "cell_type": "markdown",
   "id": "sudden-kenya",
   "metadata": {},
   "source": [
    "* 가장 이상적인 랭킹(정답 랭킹)과 현재 점수를 활용한 랭킹 사이의 점수를 cumulative하게 비교\n",
    "* 1에 가까울수록 좋은 랭킹\n",
    "* $log_2{i}$로 normalization 하여 순위가 낮을 수록 가중치를 감소\n",
    "* 검색엔진, 영상, 음악 등 컨텐츠 랭킹 추천에서 주요 평가지표로 사용"
   ]
  },
  {
   "cell_type": "markdown",
   "id": "superb-encyclopedia",
   "metadata": {},
   "source": [
    "* $CG_p = \\sum_{i=1}^{p}rel_i$\n",
    "    * 상위 아이템 p개의 관련성을 합한 cumulative gain\n",
    "    * rel -> binary(관련여부) 또는 특정 점수(문제에 따라 세분화된 값)\n",
    "    * 상위 아이템 p개에 대해서 동일한 비중으로 합함\n",
    "* $DCG_p = rel_1 + \\sum_{i=2}^p \\frac{rel_i}{log_2{i}}$\n",
    "    * 개별 아이템의 관련성에 log normalizationdmf wjrdydgka\n",
    "    * 랭킹에 따라 비중을 discount해서 관련성을 계산\n",
    "    * 하위권에 penalty 부여\n",
    "* $NDCG_p = \\frac{DCG_p}{IDCG_p}$\n",
    "    * 이상적인 DCG(Ideal DCG)를 계산하고, 최종 NDCG를 계산함\n",
    "    * IDCG는 전체 p개의 결과 중 가질 수 있는 가장 큰 DCG"
   ]
  },
  {
   "cell_type": "code",
   "execution_count": null,
   "id": "macro-biotechnology",
   "metadata": {},
   "outputs": [],
   "source": []
  }
 ],
 "metadata": {
  "kernelspec": {
   "display_name": "Python 3",
   "language": "python",
   "name": "python3"
  },
  "language_info": {
   "codemirror_mode": {
    "name": "ipython",
    "version": 3
   },
   "file_extension": ".py",
   "mimetype": "text/x-python",
   "name": "python",
   "nbconvert_exporter": "python",
   "pygments_lexer": "ipython3",
   "version": "3.8.8"
  }
 },
 "nbformat": 4,
 "nbformat_minor": 5
}
