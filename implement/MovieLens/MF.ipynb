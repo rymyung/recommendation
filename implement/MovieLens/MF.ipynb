{
 "cells": [
  {
   "cell_type": "code",
   "execution_count": 77,
   "id": "authorized-indonesia",
   "metadata": {},
   "outputs": [],
   "source": [
    "import os\n",
    "from pyspark.sql import SparkSession\n",
    "import pyspark.sql.functions as f\n",
    "from pyspark.sql.types import StructType, StringType, FloatType, IntegerType"
   ]
  },
  {
   "cell_type": "code",
   "execution_count": 7,
   "id": "under-alignment",
   "metadata": {},
   "outputs": [],
   "source": [
    "spark = SparkSession \\\n",
    "        .builder \\\n",
    "        .master('local[1]') \\\n",
    "        .appName('MovieLensMF') \\\n",
    "        .config('spark.executor.memory', '2g') \\\n",
    "        .config('spark.executor.instances', '2') \\\n",
    "        .getOrCreate()"
   ]
  },
  {
   "cell_type": "markdown",
   "id": "determined-dealing",
   "metadata": {},
   "source": [
    "## 데이터 로드"
   ]
  },
  {
   "cell_type": "code",
   "execution_count": 8,
   "id": "collect-champagne",
   "metadata": {},
   "outputs": [
    {
     "data": {
      "text/plain": [
       "['links.csv', 'tags.csv', 'ratings.csv', 'README.txt', 'movies.csv']"
      ]
     },
     "execution_count": 8,
     "metadata": {},
     "output_type": "execute_result"
    }
   ],
   "source": [
    "path = '/Users/yeomyungro/Documents/github/recommendation/data/ml-latest-small'\n",
    "os.listdir(path)"
   ]
  },
  {
   "cell_type": "code",
   "execution_count": 78,
   "id": "circular-directive",
   "metadata": {},
   "outputs": [],
   "source": [
    "schema = StructType() \\\n",
    "      .add(\"userId\",IntegerType(),True) \\\n",
    "      .add(\"movieId\",IntegerType(),True) \\\n",
    "      .add(\"rating\",FloatType(),True) \\\n",
    "      .add(\"timestamp\",StringType(),True)"
   ]
  },
  {
   "cell_type": "code",
   "execution_count": 79,
   "id": "fewer-ottawa",
   "metadata": {},
   "outputs": [],
   "source": [
    "ratings = spark.read.option('header', True) \\\n",
    "    .format('csv') \\\n",
    "    .schema(schema) \\\n",
    "    .load(path+'/ratings.csv')"
   ]
  },
  {
   "cell_type": "code",
   "execution_count": 80,
   "id": "fiscal-vertical",
   "metadata": {},
   "outputs": [
    {
     "name": "stdout",
     "output_type": "stream",
     "text": [
      "root\n",
      " |-- userId: integer (nullable = true)\n",
      " |-- movieId: integer (nullable = true)\n",
      " |-- rating: float (nullable = true)\n",
      " |-- timestamp: string (nullable = true)\n",
      "\n"
     ]
    }
   ],
   "source": [
    "ratings.printSchema()"
   ]
  },
  {
   "cell_type": "code",
   "execution_count": 81,
   "id": "differential-northeast",
   "metadata": {},
   "outputs": [
    {
     "name": "stdout",
     "output_type": "stream",
     "text": [
      "+------+-------+------+---------+\n",
      "|userId|movieId|rating|timestamp|\n",
      "+------+-------+------+---------+\n",
      "|     1|      1|   4.0|964982703|\n",
      "|     1|      3|   4.0|964981247|\n",
      "|     1|      6|   4.0|964982224|\n",
      "|     1|     47|   5.0|964983815|\n",
      "|     1|     50|   5.0|964982931|\n",
      "+------+-------+------+---------+\n",
      "only showing top 5 rows\n",
      "\n"
     ]
    }
   ],
   "source": [
    "ratings.show(5)"
   ]
  },
  {
   "cell_type": "code",
   "execution_count": 41,
   "id": "important-plastic",
   "metadata": {},
   "outputs": [
    {
     "data": {
      "text/plain": [
       "100836"
      ]
     },
     "execution_count": 41,
     "metadata": {},
     "output_type": "execute_result"
    }
   ],
   "source": [
    "ratings.count()"
   ]
  },
  {
   "cell_type": "code",
   "execution_count": 42,
   "id": "distinguished-threat",
   "metadata": {},
   "outputs": [
    {
     "name": "stdout",
     "output_type": "stream",
     "text": [
      "+-------------+\n",
      "|count(userId)|\n",
      "+-------------+\n",
      "|          610|\n",
      "+-------------+\n",
      "\n"
     ]
    }
   ],
   "source": [
    "ratings.agg(f.countDistinct('userId')).show()"
   ]
  },
  {
   "cell_type": "code",
   "execution_count": 43,
   "id": "mexican-freight",
   "metadata": {},
   "outputs": [
    {
     "name": "stdout",
     "output_type": "stream",
     "text": [
      "+--------------+\n",
      "|count(movieId)|\n",
      "+--------------+\n",
      "|          9724|\n",
      "+--------------+\n",
      "\n"
     ]
    }
   ],
   "source": [
    "ratings.agg(f.countDistinct('movieId')).show()"
   ]
  },
  {
   "cell_type": "markdown",
   "id": "unknown-papua",
   "metadata": {},
   "source": [
    "## Sparsity 확인"
   ]
  },
  {
   "cell_type": "code",
   "execution_count": 44,
   "id": "existing-mention",
   "metadata": {},
   "outputs": [
    {
     "name": "stdout",
     "output_type": "stream",
     "text": [
      "The ratings dataframe is  98.30% sparse.\n"
     ]
    }
   ],
   "source": [
    "def get_mat_sparsity(ratings):\n",
    "    # Count the total number of ratings in the dataset\n",
    "    count_nonzero = ratings.select(\"rating\").count()\n",
    "\n",
    "    # Count the number of distinct userIds and distinct movieIds\n",
    "    total_elements = ratings.select(\"userId\").distinct().count() * ratings.select(\"movieId\").distinct().count()\n",
    "\n",
    "    # Divide the numerator by the denominator\n",
    "    sparsity = (1.0 - (count_nonzero *1.0)/total_elements)*100\n",
    "    print(\"The ratings dataframe is \", \"%.2f\" % sparsity + \"% sparse.\")\n",
    "    \n",
    "get_mat_sparsity(ratings)"
   ]
  },
  {
   "cell_type": "markdown",
   "id": "static-score",
   "metadata": {},
   "source": [
    "## Train, Test 데이터 나누기"
   ]
  },
  {
   "cell_type": "code",
   "execution_count": 82,
   "id": "pending-colorado",
   "metadata": {},
   "outputs": [],
   "source": [
    "(train, test) = ratings.randomSplit([0.8, 0.2], seed=1990)"
   ]
  },
  {
   "cell_type": "code",
   "execution_count": 83,
   "id": "material-apartment",
   "metadata": {},
   "outputs": [
    {
     "data": {
      "text/plain": [
       "80480"
      ]
     },
     "execution_count": 83,
     "metadata": {},
     "output_type": "execute_result"
    }
   ],
   "source": [
    "train.count()"
   ]
  },
  {
   "cell_type": "code",
   "execution_count": 84,
   "id": "valued-stretch",
   "metadata": {},
   "outputs": [
    {
     "data": {
      "text/plain": [
       "20356"
      ]
     },
     "execution_count": 84,
     "metadata": {},
     "output_type": "execute_result"
    }
   ],
   "source": [
    "test.count()"
   ]
  },
  {
   "cell_type": "markdown",
   "id": "offshore-introduction",
   "metadata": {},
   "source": [
    "## Implict 데이터 만들기\n",
    "영화 점수를 1(시청)/0(미시청)으로 변환"
   ]
  },
  {
   "cell_type": "code",
   "execution_count": 85,
   "id": "contemporary-burlington",
   "metadata": {},
   "outputs": [
    {
     "name": "stdout",
     "output_type": "stream",
     "text": [
      "+------+-------+------+---------+-------+\n",
      "|userId|movieId|rating|timestamp|isWatch|\n",
      "+------+-------+------+---------+-------+\n",
      "|     1|      1|   4.0|964982703|      1|\n",
      "|     1|      3|   4.0|964981247|      1|\n",
      "|     1|      6|   4.0|964982224|      1|\n",
      "|     1|     47|   5.0|964983815|      1|\n",
      "|     1|     50|   5.0|964982931|      1|\n",
      "+------+-------+------+---------+-------+\n",
      "only showing top 5 rows\n",
      "\n"
     ]
    }
   ],
   "source": [
    "ratings = ratings.withColumn('isWatch', f.lit(1))\n",
    "ratings.show(5)"
   ]
  },
  {
   "cell_type": "code",
   "execution_count": 86,
   "id": "sealed-karma",
   "metadata": {},
   "outputs": [],
   "source": [
    "userId_df = ratings.select('userId').distinct()\n",
    "movieId_df = ratings.select('movieId').distinct()"
   ]
  },
  {
   "cell_type": "code",
   "execution_count": 87,
   "id": "tough-wildlife",
   "metadata": {},
   "outputs": [],
   "source": [
    "user_movie_df = userId_df.crossJoin(movieId_df).join(ratings, ['userId', 'movieId'], 'left') \\\n",
    "    .select(['userId', 'movieId', 'isWatch', 'rating']).fillna(0)"
   ]
  },
  {
   "cell_type": "code",
   "execution_count": 88,
   "id": "cheap-termination",
   "metadata": {
    "scrolled": true
   },
   "outputs": [
    {
     "name": "stdout",
     "output_type": "stream",
     "text": [
      "+------+-------+-------+------+\n",
      "|userId|movieId|isWatch|rating|\n",
      "+------+-------+-------+------+\n",
      "|   148|   1580|      0|   0.0|\n",
      "|   148|   2366|      0|   0.0|\n",
      "|   148|   3175|      0|   0.0|\n",
      "|   148|   1088|      0|   0.0|\n",
      "|   148|  32460|      0|   0.0|\n",
      "+------+-------+-------+------+\n",
      "only showing top 5 rows\n",
      "\n"
     ]
    }
   ],
   "source": [
    "user_movie_df.show(5)"
   ]
  },
  {
   "cell_type": "code",
   "execution_count": 89,
   "id": "individual-bench",
   "metadata": {},
   "outputs": [
    {
     "name": "stdout",
     "output_type": "stream",
     "text": [
      "root\n",
      " |-- userId: integer (nullable = true)\n",
      " |-- movieId: integer (nullable = true)\n",
      " |-- isWatch: integer (nullable = true)\n",
      " |-- rating: float (nullable = false)\n",
      "\n"
     ]
    }
   ],
   "source": [
    "user_movie_df.printSchema()"
   ]
  },
  {
   "cell_type": "markdown",
   "id": "hollow-stanford",
   "metadata": {},
   "source": [
    "## 학습"
   ]
  },
  {
   "cell_type": "code",
   "execution_count": 72,
   "id": "increasing-geometry",
   "metadata": {},
   "outputs": [],
   "source": [
    "from pyspark.ml.evaluation import RegressionEvaluator\n",
    "from pyspark.ml.recommendation import ALS\n",
    "from pyspark.ml.tuning import ParamGridBuilder, CrossValidator"
   ]
  },
  {
   "cell_type": "markdown",
   "id": "sought-office",
   "metadata": {},
   "source": [
    "* nonnegative : rating 값이 0 이상인지 여부\n",
    "* implicitPrefs : Explicit or Implicit\n",
    "* coldStartStrategy : user/item factor가 없는 경우"
   ]
  },
  {
   "cell_type": "code",
   "execution_count": 94,
   "id": "linear-lyric",
   "metadata": {},
   "outputs": [],
   "source": [
    "als = ALS(\n",
    "    userCol='userId', \n",
    "    itemCol='movieId', \n",
    "    ratingCol='rating', \n",
    "    nonnegative=True,\n",
    "    implicitPrefs=True,\n",
    "    coldStartStrategy='drop')"
   ]
  },
  {
   "cell_type": "markdown",
   "id": "external-inflation",
   "metadata": {},
   "source": [
    "하이퍼파라미터 grid search"
   ]
  },
  {
   "cell_type": "code",
   "execution_count": 95,
   "id": "agreed-custom",
   "metadata": {},
   "outputs": [],
   "source": [
    "param_grid = ParamGridBuilder() \\\n",
    "            .addGrid(als.rank, [10, 50, 100, 150]) \\\n",
    "            .addGrid(als.regParam, [.01, .05, .1, .15]) \\\n",
    "            .build()"
   ]
  },
  {
   "cell_type": "markdown",
   "id": "quantitative-drama",
   "metadata": {},
   "source": [
    "평가 지표"
   ]
  },
  {
   "cell_type": "code",
   "execution_count": 96,
   "id": "maritime-mayor",
   "metadata": {},
   "outputs": [
    {
     "name": "stdout",
     "output_type": "stream",
     "text": [
      "Num models to be tested:  16\n"
     ]
    }
   ],
   "source": [
    "# Define evaluator as RMSE and print length of evaluator\n",
    "evaluator = RegressionEvaluator(\n",
    "           metricName=\"rmse\", \n",
    "           labelCol=\"rating\", \n",
    "           predictionCol=\"prediction\") \n",
    "print (\"Num models to be tested: \", len(param_grid))"
   ]
  },
  {
   "cell_type": "markdown",
   "id": "heavy-freedom",
   "metadata": {},
   "source": [
    "cross validation 세팅"
   ]
  },
  {
   "cell_type": "code",
   "execution_count": 97,
   "id": "retained-advertising",
   "metadata": {},
   "outputs": [],
   "source": [
    "# Build cross validation using CrossValidator\n",
    "cv = CrossValidator(estimator=als, estimatorParamMaps=param_grid, evaluator=evaluator, numFolds=5)"
   ]
  },
  {
   "cell_type": "markdown",
   "id": "regulation-subject",
   "metadata": {},
   "source": [
    "학습"
   ]
  },
  {
   "cell_type": "code",
   "execution_count": 98,
   "id": "golden-ribbon",
   "metadata": {},
   "outputs": [],
   "source": [
    "#Fit cross validator to the 'train' dataset\n",
    "model = cv.fit(train)"
   ]
  },
  {
   "cell_type": "code",
   "execution_count": 99,
   "id": "heated-assumption",
   "metadata": {},
   "outputs": [
    {
     "name": "stdout",
     "output_type": "stream",
     "text": [
      "3.223215614199257\n"
     ]
    }
   ],
   "source": [
    "#Extract best model from the cv model above\n",
    "best_model = model.bestModel\n",
    "# View the predictions\n",
    "test_predictions = best_model.transform(test)\n",
    "RMSE = evaluator.evaluate(test_predictions)\n",
    "print(RMSE)"
   ]
  },
  {
   "cell_type": "code",
   "execution_count": 100,
   "id": "consolidated-gather",
   "metadata": {},
   "outputs": [
    {
     "name": "stdout",
     "output_type": "stream",
     "text": [
      "**Best Model**\n",
      "  Rank: 10\n",
      "  MaxIter: 10\n",
      "  RegParam: 0.01\n"
     ]
    }
   ],
   "source": [
    "print(\"**Best Model**\")\n",
    "# Print \"Rank\"\n",
    "print(\"  Rank:\", best_model._java_obj.parent().getRank())\n",
    "# Print \"MaxIter\"\n",
    "print(\"  MaxIter:\", best_model._java_obj.parent().getMaxIter())\n",
    "# Print \"RegParam\"\n",
    "print(\"  RegParam:\", best_model._java_obj.parent().getRegParam())"
   ]
  },
  {
   "cell_type": "markdown",
   "id": "corrected-generic",
   "metadata": {},
   "source": [
    "## 추천(예측)"
   ]
  },
  {
   "cell_type": "code",
   "execution_count": 101,
   "id": "republican-cincinnati",
   "metadata": {},
   "outputs": [
    {
     "name": "stdout",
     "output_type": "stream",
     "text": [
      "+------+--------------------+\n",
      "|userId|     recommendations|\n",
      "+------+--------------------+\n",
      "|   471|[{2571, 0.6160514...|\n",
      "|   463|[{2571, 0.5005672...|\n",
      "|   496|[{2571, 0.3983799...|\n",
      "|   148|[{68954, 0.563131...|\n",
      "|   540|[{2571, 0.6567966...|\n",
      "|   392|[{2571, 0.3298897...|\n",
      "|   243|[{590, 0.68851244...|\n",
      "|    31|[{356, 0.5901356}...|\n",
      "|   516|[{260, 0.24742907...|\n",
      "|   580|[{2959, 1.148741}...|\n",
      "|   251|[{318, 0.76826394...|\n",
      "|   451|[{592, 0.6089305}...|\n",
      "|    85|[{904, 0.22922753...|\n",
      "|   137|[{318, 1.0380927}...|\n",
      "|    65|[{2571, 0.5823167...|\n",
      "|   458|[{150, 0.92451924...|\n",
      "|   481|[{2916, 0.2085701...|\n",
      "|    53|[{440, 0.11010618...|\n",
      "|   255|[{260, 0.2168643}...|\n",
      "|   588|[{318, 0.86326796...|\n",
      "+------+--------------------+\n",
      "only showing top 20 rows\n",
      "\n"
     ]
    }
   ],
   "source": [
    "# Generate n Recommendations for all users\n",
    "recommendations = best_model.recommendForAllUsers(5)\n",
    "recommendations.show()"
   ]
  },
  {
   "cell_type": "code",
   "execution_count": 105,
   "id": "global-ireland",
   "metadata": {},
   "outputs": [
    {
     "name": "stdout",
     "output_type": "stream",
     "text": [
      "+------+-------+----------+\n",
      "|userId|movieId|    rating|\n",
      "+------+-------+----------+\n",
      "|   471|   2571| 0.6160514|\n",
      "|   471|    318| 0.5997103|\n",
      "|   471|   2959| 0.5990828|\n",
      "|   471|   7153| 0.5593015|\n",
      "|   471|   4993|0.55717885|\n",
      "|   463|   2571|0.50056726|\n",
      "|   463|    318|0.49084532|\n",
      "|   463|    296| 0.4677875|\n",
      "|   463|   2959|0.46737164|\n",
      "|   463|    356|0.45888856|\n",
      "+------+-------+----------+\n",
      "\n"
     ]
    }
   ],
   "source": [
    "recommendations = recommendations\\\n",
    "    .withColumn(\"rec_exp\", f.explode(\"recommendations\"))\\\n",
    "    .select('userId', f.col(\"rec_exp.movieId\"), f.col(\"rec_exp.rating\"))\n",
    "recommendations.limit(10).show()"
   ]
  },
  {
   "cell_type": "code",
   "execution_count": null,
   "id": "protected-cross",
   "metadata": {},
   "outputs": [],
   "source": []
  }
 ],
 "metadata": {
  "kernelspec": {
   "display_name": "Python 3",
   "language": "python",
   "name": "python3"
  },
  "language_info": {
   "codemirror_mode": {
    "name": "ipython",
    "version": 3
   },
   "file_extension": ".py",
   "mimetype": "text/x-python",
   "name": "python",
   "nbconvert_exporter": "python",
   "pygments_lexer": "ipython3",
   "version": "3.8.8"
  }
 },
 "nbformat": 4,
 "nbformat_minor": 5
}
